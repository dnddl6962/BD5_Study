{
 "cells": [
  {
   "cell_type": "code",
   "execution_count": 118,
   "metadata": {},
   "outputs": [],
   "source": [
    "import pandas as pd\n",
    "import numpy as np\n",
    "import matplotlib.pyplot as plt\n",
    "import seaborn as sns\n",
    "from sklearn.model_selection import train_test_split\n",
    "from sklearn.metrics import accuracy_score\n",
    "from sklearn.metrics import precision_recall_fscore_support\n",
    "from lightgbm import LGBMClassifier\n",
    "from lightgbm import plot_importance\n",
    "from sklearn.linear_model import LogisticRegression\n",
    "from sklearn.model_selection import GridSearchCV\n"
   ]
  },
  {
   "cell_type": "code",
   "execution_count": 119,
   "metadata": {},
   "outputs": [],
   "source": [
    "df = pd.read_csv('churn_data.csv')"
   ]
  },
  {
   "cell_type": "code",
   "execution_count": 120,
   "metadata": {},
   "outputs": [
    {
     "data": {
      "text/html": [
       "<div>\n",
       "<style scoped>\n",
       "    .dataframe tbody tr th:only-of-type {\n",
       "        vertical-align: middle;\n",
       "    }\n",
       "\n",
       "    .dataframe tbody tr th {\n",
       "        vertical-align: top;\n",
       "    }\n",
       "\n",
       "    .dataframe thead th {\n",
       "        text-align: right;\n",
       "    }\n",
       "</style>\n",
       "<table border=\"1\" class=\"dataframe\">\n",
       "  <thead>\n",
       "    <tr style=\"text-align: right;\">\n",
       "      <th></th>\n",
       "      <th>number</th>\n",
       "      <th>system_id</th>\n",
       "      <th>grade_sect_cd</th>\n",
       "      <th>mbr_sex_cd</th>\n",
       "      <th>tmon_pchrg_lrn_dcnt</th>\n",
       "      <th>acmlt_pchrg_lrn_dcnt</th>\n",
       "      <th>acmlt_bilclct_amt</th>\n",
       "      <th>correct_rate_avg</th>\n",
       "      <th>learning_time_avg</th>\n",
       "      <th>media_action_cnt_sum</th>\n",
       "      <th>non_video_viewed_cnt_sum</th>\n",
       "      <th>get_mm_point_sum</th>\n",
       "      <th>label</th>\n",
       "      <th>re_purch</th>\n",
       "    </tr>\n",
       "  </thead>\n",
       "  <tbody>\n",
       "    <tr>\n",
       "      <th>0</th>\n",
       "      <td>3</td>\n",
       "      <td>87ee0282-ece5-4491-bb07-be93854750ac</td>\n",
       "      <td>G011</td>\n",
       "      <td>M</td>\n",
       "      <td>31.0</td>\n",
       "      <td>247.0</td>\n",
       "      <td>952000.0</td>\n",
       "      <td>0.59</td>\n",
       "      <td>670.48</td>\n",
       "      <td>673.0</td>\n",
       "      <td>306.0</td>\n",
       "      <td>1377.0</td>\n",
       "      <td>0</td>\n",
       "      <td>False</td>\n",
       "    </tr>\n",
       "    <tr>\n",
       "      <th>1</th>\n",
       "      <td>7</td>\n",
       "      <td>8817ada1-b7ad-4713-b041-ee180540cb87</td>\n",
       "      <td>G011</td>\n",
       "      <td>M</td>\n",
       "      <td>31.0</td>\n",
       "      <td>238.0</td>\n",
       "      <td>1071000.0</td>\n",
       "      <td>0.00</td>\n",
       "      <td>0.00</td>\n",
       "      <td>0.0</td>\n",
       "      <td>0.0</td>\n",
       "      <td>0.0</td>\n",
       "      <td>0</td>\n",
       "      <td>False</td>\n",
       "    </tr>\n",
       "    <tr>\n",
       "      <th>2</th>\n",
       "      <td>8</td>\n",
       "      <td>884cddf4-bda5-4d81-960c-b9a4892645f0</td>\n",
       "      <td>G011</td>\n",
       "      <td>F</td>\n",
       "      <td>31.0</td>\n",
       "      <td>92.0</td>\n",
       "      <td>436000.0</td>\n",
       "      <td>0.70</td>\n",
       "      <td>400.44</td>\n",
       "      <td>1067.0</td>\n",
       "      <td>468.0</td>\n",
       "      <td>6289.0</td>\n",
       "      <td>0</td>\n",
       "      <td>False</td>\n",
       "    </tr>\n",
       "    <tr>\n",
       "      <th>3</th>\n",
       "      <td>21</td>\n",
       "      <td>8a58832b-592b-4b33-b05e-0e11422d73d5</td>\n",
       "      <td>G011</td>\n",
       "      <td>M</td>\n",
       "      <td>31.0</td>\n",
       "      <td>370.0</td>\n",
       "      <td>1417000.0</td>\n",
       "      <td>0.81</td>\n",
       "      <td>914.47</td>\n",
       "      <td>840.0</td>\n",
       "      <td>212.0</td>\n",
       "      <td>1714.0</td>\n",
       "      <td>0</td>\n",
       "      <td>False</td>\n",
       "    </tr>\n",
       "    <tr>\n",
       "      <th>4</th>\n",
       "      <td>25</td>\n",
       "      <td>8af8f516-a9f0-4b6a-a27f-fc77ba51f708</td>\n",
       "      <td>G011</td>\n",
       "      <td>M</td>\n",
       "      <td>1.0</td>\n",
       "      <td>1.0</td>\n",
       "      <td>109000.0</td>\n",
       "      <td>0.00</td>\n",
       "      <td>0.00</td>\n",
       "      <td>0.0</td>\n",
       "      <td>0.0</td>\n",
       "      <td>0.0</td>\n",
       "      <td>0</td>\n",
       "      <td>False</td>\n",
       "    </tr>\n",
       "    <tr>\n",
       "      <th>...</th>\n",
       "      <td>...</td>\n",
       "      <td>...</td>\n",
       "      <td>...</td>\n",
       "      <td>...</td>\n",
       "      <td>...</td>\n",
       "      <td>...</td>\n",
       "      <td>...</td>\n",
       "      <td>...</td>\n",
       "      <td>...</td>\n",
       "      <td>...</td>\n",
       "      <td>...</td>\n",
       "      <td>...</td>\n",
       "      <td>...</td>\n",
       "      <td>...</td>\n",
       "    </tr>\n",
       "    <tr>\n",
       "      <th>59995</th>\n",
       "      <td>66969</td>\n",
       "      <td>3d97d2c6-50dd-4c12-9fee-01578d691b0d</td>\n",
       "      <td>G016</td>\n",
       "      <td>F</td>\n",
       "      <td>31.0</td>\n",
       "      <td>613.0</td>\n",
       "      <td>1180000.0</td>\n",
       "      <td>0.69</td>\n",
       "      <td>262.33</td>\n",
       "      <td>41.0</td>\n",
       "      <td>26.0</td>\n",
       "      <td>590.0</td>\n",
       "      <td>0</td>\n",
       "      <td>True</td>\n",
       "    </tr>\n",
       "    <tr>\n",
       "      <th>59996</th>\n",
       "      <td>66986</td>\n",
       "      <td>41258431-f36d-46e7-a0d4-43f98edafd21</td>\n",
       "      <td>G016</td>\n",
       "      <td>M</td>\n",
       "      <td>31.0</td>\n",
       "      <td>62.0</td>\n",
       "      <td>178000.0</td>\n",
       "      <td>0.69</td>\n",
       "      <td>164.69</td>\n",
       "      <td>429.0</td>\n",
       "      <td>187.0</td>\n",
       "      <td>812.0</td>\n",
       "      <td>0</td>\n",
       "      <td>True</td>\n",
       "    </tr>\n",
       "    <tr>\n",
       "      <th>59997</th>\n",
       "      <td>66987</td>\n",
       "      <td>4157bf9d-92ea-4656-a2f6-9ac53ced8328</td>\n",
       "      <td>G016</td>\n",
       "      <td>F</td>\n",
       "      <td>31.0</td>\n",
       "      <td>217.0</td>\n",
       "      <td>872000.0</td>\n",
       "      <td>0.43</td>\n",
       "      <td>353.55</td>\n",
       "      <td>853.0</td>\n",
       "      <td>417.0</td>\n",
       "      <td>3064.0</td>\n",
       "      <td>0</td>\n",
       "      <td>False</td>\n",
       "    </tr>\n",
       "    <tr>\n",
       "      <th>59998</th>\n",
       "      <td>66988</td>\n",
       "      <td>416c8ba3-330b-45fc-aae8-91b548c28b3d</td>\n",
       "      <td>G016</td>\n",
       "      <td>M</td>\n",
       "      <td>31.0</td>\n",
       "      <td>312.0</td>\n",
       "      <td>869000.0</td>\n",
       "      <td>0.68</td>\n",
       "      <td>172.41</td>\n",
       "      <td>930.0</td>\n",
       "      <td>234.0</td>\n",
       "      <td>1092.0</td>\n",
       "      <td>0</td>\n",
       "      <td>True</td>\n",
       "    </tr>\n",
       "    <tr>\n",
       "      <th>59999</th>\n",
       "      <td>66995</td>\n",
       "      <td>423b5121-b5e9-4a2c-ab53-2c06c21baf62</td>\n",
       "      <td>G016</td>\n",
       "      <td>M</td>\n",
       "      <td>31.0</td>\n",
       "      <td>723.0</td>\n",
       "      <td>1896000.0</td>\n",
       "      <td>0.59</td>\n",
       "      <td>383.88</td>\n",
       "      <td>623.0</td>\n",
       "      <td>391.0</td>\n",
       "      <td>1283.0</td>\n",
       "      <td>0</td>\n",
       "      <td>True</td>\n",
       "    </tr>\n",
       "  </tbody>\n",
       "</table>\n",
       "<p>60000 rows × 14 columns</p>\n",
       "</div>"
      ],
      "text/plain": [
       "       number                             system_id grade_sect_cd mbr_sex_cd  \\\n",
       "0           3  87ee0282-ece5-4491-bb07-be93854750ac          G011          M   \n",
       "1           7  8817ada1-b7ad-4713-b041-ee180540cb87          G011          M   \n",
       "2           8  884cddf4-bda5-4d81-960c-b9a4892645f0          G011          F   \n",
       "3          21  8a58832b-592b-4b33-b05e-0e11422d73d5          G011          M   \n",
       "4          25  8af8f516-a9f0-4b6a-a27f-fc77ba51f708          G011          M   \n",
       "...       ...                                   ...           ...        ...   \n",
       "59995   66969  3d97d2c6-50dd-4c12-9fee-01578d691b0d          G016          F   \n",
       "59996   66986  41258431-f36d-46e7-a0d4-43f98edafd21          G016          M   \n",
       "59997   66987  4157bf9d-92ea-4656-a2f6-9ac53ced8328          G016          F   \n",
       "59998   66988  416c8ba3-330b-45fc-aae8-91b548c28b3d          G016          M   \n",
       "59999   66995  423b5121-b5e9-4a2c-ab53-2c06c21baf62          G016          M   \n",
       "\n",
       "       tmon_pchrg_lrn_dcnt  acmlt_pchrg_lrn_dcnt  acmlt_bilclct_amt  \\\n",
       "0                     31.0                 247.0           952000.0   \n",
       "1                     31.0                 238.0          1071000.0   \n",
       "2                     31.0                  92.0           436000.0   \n",
       "3                     31.0                 370.0          1417000.0   \n",
       "4                      1.0                   1.0           109000.0   \n",
       "...                    ...                   ...                ...   \n",
       "59995                 31.0                 613.0          1180000.0   \n",
       "59996                 31.0                  62.0           178000.0   \n",
       "59997                 31.0                 217.0           872000.0   \n",
       "59998                 31.0                 312.0           869000.0   \n",
       "59999                 31.0                 723.0          1896000.0   \n",
       "\n",
       "       correct_rate_avg  learning_time_avg  media_action_cnt_sum  \\\n",
       "0                  0.59             670.48                 673.0   \n",
       "1                  0.00               0.00                   0.0   \n",
       "2                  0.70             400.44                1067.0   \n",
       "3                  0.81             914.47                 840.0   \n",
       "4                  0.00               0.00                   0.0   \n",
       "...                 ...                ...                   ...   \n",
       "59995              0.69             262.33                  41.0   \n",
       "59996              0.69             164.69                 429.0   \n",
       "59997              0.43             353.55                 853.0   \n",
       "59998              0.68             172.41                 930.0   \n",
       "59999              0.59             383.88                 623.0   \n",
       "\n",
       "       non_video_viewed_cnt_sum  get_mm_point_sum  label  re_purch  \n",
       "0                         306.0            1377.0      0     False  \n",
       "1                           0.0               0.0      0     False  \n",
       "2                         468.0            6289.0      0     False  \n",
       "3                         212.0            1714.0      0     False  \n",
       "4                           0.0               0.0      0     False  \n",
       "...                         ...               ...    ...       ...  \n",
       "59995                      26.0             590.0      0      True  \n",
       "59996                     187.0             812.0      0      True  \n",
       "59997                     417.0            3064.0      0     False  \n",
       "59998                     234.0            1092.0      0      True  \n",
       "59999                     391.0            1283.0      0      True  \n",
       "\n",
       "[60000 rows x 14 columns]"
      ]
     },
     "execution_count": 120,
     "metadata": {},
     "output_type": "execute_result"
    }
   ],
   "source": [
    "df"
   ]
  },
  {
   "cell_type": "code",
   "execution_count": 121,
   "metadata": {},
   "outputs": [],
   "source": [
    "del df['number']"
   ]
  },
  {
   "cell_type": "code",
   "execution_count": 122,
   "metadata": {},
   "outputs": [
    {
     "data": {
      "text/plain": [
       "system_id                   0\n",
       "grade_sect_cd               0\n",
       "mbr_sex_cd                  0\n",
       "tmon_pchrg_lrn_dcnt         0\n",
       "acmlt_pchrg_lrn_dcnt        0\n",
       "acmlt_bilclct_amt           0\n",
       "correct_rate_avg            0\n",
       "learning_time_avg           0\n",
       "media_action_cnt_sum        0\n",
       "non_video_viewed_cnt_sum    0\n",
       "get_mm_point_sum            0\n",
       "label                       0\n",
       "re_purch                    0\n",
       "dtype: int64"
      ]
     },
     "execution_count": 122,
     "metadata": {},
     "output_type": "execute_result"
    }
   ],
   "source": [
    "#결측치 없음\n",
    "df.isna().sum()"
   ]
  },
  {
   "cell_type": "code",
   "execution_count": 123,
   "metadata": {},
   "outputs": [
    {
     "data": {
      "text/html": [
       "<div>\n",
       "<style scoped>\n",
       "    .dataframe tbody tr th:only-of-type {\n",
       "        vertical-align: middle;\n",
       "    }\n",
       "\n",
       "    .dataframe tbody tr th {\n",
       "        vertical-align: top;\n",
       "    }\n",
       "\n",
       "    .dataframe thead th {\n",
       "        text-align: right;\n",
       "    }\n",
       "</style>\n",
       "<table border=\"1\" class=\"dataframe\">\n",
       "  <thead>\n",
       "    <tr style=\"text-align: right;\">\n",
       "      <th></th>\n",
       "      <th>grade</th>\n",
       "    </tr>\n",
       "  </thead>\n",
       "  <tbody>\n",
       "    <tr>\n",
       "      <th>0</th>\n",
       "      <td>1</td>\n",
       "    </tr>\n",
       "    <tr>\n",
       "      <th>1</th>\n",
       "      <td>1</td>\n",
       "    </tr>\n",
       "    <tr>\n",
       "      <th>2</th>\n",
       "      <td>1</td>\n",
       "    </tr>\n",
       "    <tr>\n",
       "      <th>3</th>\n",
       "      <td>1</td>\n",
       "    </tr>\n",
       "    <tr>\n",
       "      <th>4</th>\n",
       "      <td>1</td>\n",
       "    </tr>\n",
       "    <tr>\n",
       "      <th>...</th>\n",
       "      <td>...</td>\n",
       "    </tr>\n",
       "    <tr>\n",
       "      <th>59995</th>\n",
       "      <td>6</td>\n",
       "    </tr>\n",
       "    <tr>\n",
       "      <th>59996</th>\n",
       "      <td>6</td>\n",
       "    </tr>\n",
       "    <tr>\n",
       "      <th>59997</th>\n",
       "      <td>6</td>\n",
       "    </tr>\n",
       "    <tr>\n",
       "      <th>59998</th>\n",
       "      <td>6</td>\n",
       "    </tr>\n",
       "    <tr>\n",
       "      <th>59999</th>\n",
       "      <td>6</td>\n",
       "    </tr>\n",
       "  </tbody>\n",
       "</table>\n",
       "<p>60000 rows × 1 columns</p>\n",
       "</div>"
      ],
      "text/plain": [
       "       grade\n",
       "0          1\n",
       "1          1\n",
       "2          1\n",
       "3          1\n",
       "4          1\n",
       "...      ...\n",
       "59995      6\n",
       "59996      6\n",
       "59997      6\n",
       "59998      6\n",
       "59999      6\n",
       "\n",
       "[60000 rows x 1 columns]"
      ]
     },
     "execution_count": 123,
     "metadata": {},
     "output_type": "execute_result"
    }
   ],
   "source": [
    "def change_value(values):\n",
    "    if values == 'G011':\n",
    "        return 1\n",
    "    elif values == 'G012':\n",
    "        return 2\n",
    "    elif values == 'G013':\n",
    "        return 3\n",
    "    elif values == 'G014':\n",
    "        return 4\n",
    "    elif values == 'G015':\n",
    "        return 5\n",
    "    elif values == 'G016':\n",
    "        return 6\n",
    "    \n",
    "df['grade'] = df['grade_sect_cd'].apply(change_value)\n",
    "df[['grade']]\n",
    "    \n"
   ]
  },
  {
   "cell_type": "code",
   "execution_count": 125,
   "metadata": {},
   "outputs": [
    {
     "data": {
      "text/plain": [
       "mbr_sex_cd  label\n",
       "F           0        25064\n",
       "            1          377\n",
       "M           0        32310\n",
       "            1          533\n",
       "X           0         1694\n",
       "            1           22\n",
       "Name: count, dtype: int64"
      ]
     },
     "execution_count": 125,
     "metadata": {},
     "output_type": "execute_result"
    }
   ],
   "source": [
    "df.groupby('mbr_sex_cd')['label'].value_counts()\n",
    "#남녀+X로 라벨 나누기"
   ]
  },
  {
   "cell_type": "code",
   "execution_count": 127,
   "metadata": {},
   "outputs": [],
   "source": [
    "# X --> M(최빈값)\n",
    "df['mbr_sex_cd'].replace({'X' : \"M\"}, inplace=True)"
   ]
  },
  {
   "cell_type": "code",
   "execution_count": 128,
   "metadata": {},
   "outputs": [
    {
     "data": {
      "text/plain": [
       "mbr_sex_cd\n",
       "M    34559\n",
       "F    25441\n",
       "Name: count, dtype: int64"
      ]
     },
     "execution_count": 128,
     "metadata": {},
     "output_type": "execute_result"
    }
   ],
   "source": [
    "df['mbr_sex_cd'].value_counts()"
   ]
  },
  {
   "cell_type": "code",
   "execution_count": 129,
   "metadata": {},
   "outputs": [],
   "source": [
    "df_M = df.query('mbr_sex_cd == \"M\"').reset_index()\n",
    "df_F = df.query('mbr_sex_cd == \"F\"').reset_index()"
   ]
  },
  {
   "cell_type": "code",
   "execution_count": 152,
   "metadata": {},
   "outputs": [
    {
     "name": "stdout",
     "output_type": "stream",
     "text": [
      "<class 'pandas.core.frame.DataFrame'>\n",
      "RangeIndex: 60000 entries, 0 to 59999\n",
      "Data columns (total 14 columns):\n",
      " #   Column                    Non-Null Count  Dtype  \n",
      "---  ------                    --------------  -----  \n",
      " 0   system_id                 60000 non-null  object \n",
      " 1   grade_sect_cd             60000 non-null  object \n",
      " 2   mbr_sex_cd                60000 non-null  object \n",
      " 3   tmon_pchrg_lrn_dcnt       60000 non-null  float64\n",
      " 4   acmlt_pchrg_lrn_dcnt      60000 non-null  float64\n",
      " 5   acmlt_bilclct_amt         60000 non-null  float64\n",
      " 6   correct_rate_avg          60000 non-null  float64\n",
      " 7   learning_time_avg         60000 non-null  float64\n",
      " 8   media_action_cnt_sum      60000 non-null  float64\n",
      " 9   non_video_viewed_cnt_sum  60000 non-null  float64\n",
      " 10  get_mm_point_sum          60000 non-null  float64\n",
      " 11  label                     60000 non-null  int64  \n",
      " 12  re_purch                  60000 non-null  bool   \n",
      " 13  grade                     60000 non-null  int64  \n",
      "dtypes: bool(1), float64(8), int64(2), object(3)\n",
      "memory usage: 6.0+ MB\n"
     ]
    }
   ],
   "source": [
    "df.info()"
   ]
  },
  {
   "cell_type": "code",
   "execution_count": 131,
   "metadata": {},
   "outputs": [],
   "source": [
    "x1 = df_M[['grade',\n",
    "    'tmon_pchrg_lrn_dcnt',\n",
    "       'acmlt_pchrg_lrn_dcnt',\n",
    "       'acmlt_bilclct_amt',\n",
    "       'correct_rate_avg', \n",
    "        'learning_time_avg',\n",
    "        'media_action_cnt_sum',\n",
    "        'non_video_viewed_cnt_sum']]\n",
    "y1 = df_M['label']"
   ]
  },
  {
   "cell_type": "code",
   "execution_count": 132,
   "metadata": {},
   "outputs": [],
   "source": [
    "x2 = df_F[['grade',\n",
    "    'tmon_pchrg_lrn_dcnt',\n",
    "       'acmlt_pchrg_lrn_dcnt',\n",
    "       'acmlt_bilclct_amt',\n",
    "       'correct_rate_avg', \n",
    "        'learning_time_avg',\n",
    "        'media_action_cnt_sum',\n",
    "        'non_video_viewed_cnt_sum']]\n",
    "y2 = df_F['label']"
   ]
  },
  {
   "cell_type": "code",
   "execution_count": 133,
   "metadata": {},
   "outputs": [],
   "source": [
    "X1_train, X1_test, y1_train, y1_test = train_test_split(x1, y1, test_size=0.2, random_state=42)\n",
    "X2_train, X2_test, y2_train, y2_test = train_test_split(x2, y2, test_size=0.2, random_state=42)"
   ]
  },
  {
   "cell_type": "code",
   "execution_count": 134,
   "metadata": {},
   "outputs": [
    {
     "name": "stdout",
     "output_type": "stream",
     "text": [
      "남자, train 전체: 27647, 이탈 : 461, 미이탈: 27186 \n",
      "남자, test 전체: 6912, 이탈 : 94, 미이탈: 6818 \n",
      "여자, train 전체: 20352, 이탈 : 299, 미이탈: 20053 \n",
      "여자, test 전체: 5089, 이탈 : 78, 미이탈: 5011 \n"
     ]
    }
   ],
   "source": [
    "    print(f\"남자, train 전체: {len(X1_train)}, 이탈 : {y1_train[y1_train==1].shape[0]}, 미이탈: {y1_train[y1_train==0].shape[0]} \")\n",
    "    print(f\"남자, test 전체: {len(X1_test)}, 이탈 : {y1_test[y1_test==1].shape[0]}, 미이탈: {y1_test[y1_test==0].shape[0]} \")\n",
    "    print(f\"여자, train 전체: {len(X2_train)}, 이탈 : {y2_train[y2_train==1].shape[0]}, 미이탈: {y2_train[y2_train==0].shape[0]} \")\n",
    "    print(f\"여자, test 전체: {len(X2_test)}, 이탈 : {y2_test[y2_test==1].shape[0]}, 미이탈: {y2_test[y2_test==0].shape[0]} \")\n",
    "    "
   ]
  },
  {
   "cell_type": "code",
   "execution_count": 135,
   "metadata": {},
   "outputs": [
    {
     "name": "stderr",
     "output_type": "stream",
     "text": [
      "/opt/homebrew/anaconda3/lib/python3.11/site-packages/sklearn/linear_model/_logistic.py:460: ConvergenceWarning: lbfgs failed to converge (status=1):\n",
      "STOP: TOTAL NO. of ITERATIONS REACHED LIMIT.\n",
      "\n",
      "Increase the number of iterations (max_iter) or scale the data as shown in:\n",
      "    https://scikit-learn.org/stable/modules/preprocessing.html\n",
      "Please also refer to the documentation for alternative solver options:\n",
      "    https://scikit-learn.org/stable/modules/linear_model.html#logistic-regression\n",
      "  n_iter_i = _check_optimize_result(\n"
     ]
    },
    {
     "data": {
      "text/html": [
       "<style>#sk-container-id-6 {color: black;}#sk-container-id-6 pre{padding: 0;}#sk-container-id-6 div.sk-toggleable {background-color: white;}#sk-container-id-6 label.sk-toggleable__label {cursor: pointer;display: block;width: 100%;margin-bottom: 0;padding: 0.3em;box-sizing: border-box;text-align: center;}#sk-container-id-6 label.sk-toggleable__label-arrow:before {content: \"▸\";float: left;margin-right: 0.25em;color: #696969;}#sk-container-id-6 label.sk-toggleable__label-arrow:hover:before {color: black;}#sk-container-id-6 div.sk-estimator:hover label.sk-toggleable__label-arrow:before {color: black;}#sk-container-id-6 div.sk-toggleable__content {max-height: 0;max-width: 0;overflow: hidden;text-align: left;background-color: #f0f8ff;}#sk-container-id-6 div.sk-toggleable__content pre {margin: 0.2em;color: black;border-radius: 0.25em;background-color: #f0f8ff;}#sk-container-id-6 input.sk-toggleable__control:checked~div.sk-toggleable__content {max-height: 200px;max-width: 100%;overflow: auto;}#sk-container-id-6 input.sk-toggleable__control:checked~label.sk-toggleable__label-arrow:before {content: \"▾\";}#sk-container-id-6 div.sk-estimator input.sk-toggleable__control:checked~label.sk-toggleable__label {background-color: #d4ebff;}#sk-container-id-6 div.sk-label input.sk-toggleable__control:checked~label.sk-toggleable__label {background-color: #d4ebff;}#sk-container-id-6 input.sk-hidden--visually {border: 0;clip: rect(1px 1px 1px 1px);clip: rect(1px, 1px, 1px, 1px);height: 1px;margin: -1px;overflow: hidden;padding: 0;position: absolute;width: 1px;}#sk-container-id-6 div.sk-estimator {font-family: monospace;background-color: #f0f8ff;border: 1px dotted black;border-radius: 0.25em;box-sizing: border-box;margin-bottom: 0.5em;}#sk-container-id-6 div.sk-estimator:hover {background-color: #d4ebff;}#sk-container-id-6 div.sk-parallel-item::after {content: \"\";width: 100%;border-bottom: 1px solid gray;flex-grow: 1;}#sk-container-id-6 div.sk-label:hover label.sk-toggleable__label {background-color: #d4ebff;}#sk-container-id-6 div.sk-serial::before {content: \"\";position: absolute;border-left: 1px solid gray;box-sizing: border-box;top: 0;bottom: 0;left: 50%;z-index: 0;}#sk-container-id-6 div.sk-serial {display: flex;flex-direction: column;align-items: center;background-color: white;padding-right: 0.2em;padding-left: 0.2em;position: relative;}#sk-container-id-6 div.sk-item {position: relative;z-index: 1;}#sk-container-id-6 div.sk-parallel {display: flex;align-items: stretch;justify-content: center;background-color: white;position: relative;}#sk-container-id-6 div.sk-item::before, #sk-container-id-6 div.sk-parallel-item::before {content: \"\";position: absolute;border-left: 1px solid gray;box-sizing: border-box;top: 0;bottom: 0;left: 50%;z-index: -1;}#sk-container-id-6 div.sk-parallel-item {display: flex;flex-direction: column;z-index: 1;position: relative;background-color: white;}#sk-container-id-6 div.sk-parallel-item:first-child::after {align-self: flex-end;width: 50%;}#sk-container-id-6 div.sk-parallel-item:last-child::after {align-self: flex-start;width: 50%;}#sk-container-id-6 div.sk-parallel-item:only-child::after {width: 0;}#sk-container-id-6 div.sk-dashed-wrapped {border: 1px dashed gray;margin: 0 0.4em 0.5em 0.4em;box-sizing: border-box;padding-bottom: 0.4em;background-color: white;}#sk-container-id-6 div.sk-label label {font-family: monospace;font-weight: bold;display: inline-block;line-height: 1.2em;}#sk-container-id-6 div.sk-label-container {text-align: center;}#sk-container-id-6 div.sk-container {/* jupyter's `normalize.less` sets `[hidden] { display: none; }` but bootstrap.min.css set `[hidden] { display: none !important; }` so we also need the `!important` here to be able to override the default hidden behavior on the sphinx rendered scikit-learn.org. See: https://github.com/scikit-learn/scikit-learn/issues/21755 */display: inline-block !important;position: relative;}#sk-container-id-6 div.sk-text-repr-fallback {display: none;}</style><div id=\"sk-container-id-6\" class=\"sk-top-container\"><div class=\"sk-text-repr-fallback\"><pre>LogisticRegression(random_state=0)</pre><b>In a Jupyter environment, please rerun this cell to show the HTML representation or trust the notebook. <br />On GitHub, the HTML representation is unable to render, please try loading this page with nbviewer.org.</b></div><div class=\"sk-container\" hidden><div class=\"sk-item\"><div class=\"sk-estimator sk-toggleable\"><input class=\"sk-toggleable__control sk-hidden--visually\" id=\"sk-estimator-id-6\" type=\"checkbox\" checked><label for=\"sk-estimator-id-6\" class=\"sk-toggleable__label sk-toggleable__label-arrow\">LogisticRegression</label><div class=\"sk-toggleable__content\"><pre>LogisticRegression(random_state=0)</pre></div></div></div></div></div>"
      ],
      "text/plain": [
       "LogisticRegression(random_state=0)"
      ]
     },
     "execution_count": 135,
     "metadata": {},
     "output_type": "execute_result"
    }
   ],
   "source": [
    "#로지스틱 회귀 \n",
    "log_model_M = LogisticRegression(random_state=0)\n",
    "log_model_M.fit(X=X1_train, y=y1_train)\n",
    "\n",
    "log_model_F = LogisticRegression(random_state=0)\n",
    "log_model_F.fit(X=X2_train, y=y2_train)"
   ]
  },
  {
   "cell_type": "code",
   "execution_count": 136,
   "metadata": {},
   "outputs": [
    {
     "name": "stdout",
     "output_type": "stream",
     "text": [
      "[predict] 이탈: 26, 미이탈 : 6886\n"
     ]
    }
   ],
   "source": [
    "#남자 예측\n",
    "y1_pred = log_model_M.predict(X1_test)\n",
    "y1_pred = list(y1_pred)\n",
    "print(f\"[predict] 이탈: {y1_pred.count(1)}, 미이탈 : {y1_pred.count(0)}\")"
   ]
  },
  {
   "cell_type": "code",
   "execution_count": 137,
   "metadata": {},
   "outputs": [
    {
     "name": "stdout",
     "output_type": "stream",
     "text": [
      "[predict] 이탈: 0, 미이탈 : 5089\n"
     ]
    }
   ],
   "source": [
    "#여자 예측\n",
    "y2_pred = log_model_F.predict(X2_test)\n",
    "y2_pred = list(y2_pred)\n",
    "print(f\"[predict] 이탈: {y2_pred.count(1)}, 미이탈 : {y2_pred.count(0)}\")"
   ]
  },
  {
   "cell_type": "code",
   "execution_count": 144,
   "metadata": {},
   "outputs": [
    {
     "data": {
      "text/plain": [
       "0.9835069444444444"
      ]
     },
     "execution_count": 144,
     "metadata": {},
     "output_type": "execute_result"
    }
   ],
   "source": [
    "accuracy_score(y1_test, y1_pred)\n"
   ]
  },
  {
   "cell_type": "code",
   "execution_count": 145,
   "metadata": {},
   "outputs": [
    {
     "data": {
      "text/plain": [
       "0.984672823737473"
      ]
     },
     "execution_count": 145,
     "metadata": {},
     "output_type": "execute_result"
    }
   ],
   "source": [
    "accuracy_score(y2_test, y2_pred)"
   ]
  },
  {
   "cell_type": "code",
   "execution_count": 146,
   "metadata": {},
   "outputs": [
    {
     "data": {
      "text/plain": [
       "(0.11538461538461539, 0.031914893617021274, 0.05, None)"
      ]
     },
     "execution_count": 146,
     "metadata": {},
     "output_type": "execute_result"
    }
   ],
   "source": [
    "precision_recall_fscore_support(y1_test, y1_pred, average='binary')"
   ]
  },
  {
   "cell_type": "code",
   "execution_count": 147,
   "metadata": {},
   "outputs": [
    {
     "name": "stderr",
     "output_type": "stream",
     "text": [
      "/opt/homebrew/anaconda3/lib/python3.11/site-packages/sklearn/metrics/_classification.py:1469: UndefinedMetricWarning: Precision and F-score are ill-defined and being set to 0.0 due to no predicted samples. Use `zero_division` parameter to control this behavior.\n",
      "  _warn_prf(average, modifier, msg_start, len(result))\n"
     ]
    },
    {
     "data": {
      "text/plain": [
       "(0.0, 0.0, 0.0, None)"
      ]
     },
     "execution_count": 147,
     "metadata": {},
     "output_type": "execute_result"
    }
   ],
   "source": [
    "precision_recall_fscore_support(y2_test, y2_pred, average='binary')"
   ]
  },
  {
   "cell_type": "code",
   "execution_count": 150,
   "metadata": {},
   "outputs": [
    {
     "name": "stdout",
     "output_type": "stream",
     "text": [
      "[[6795   23]\n",
      " [  91    3]]\n"
     ]
    }
   ],
   "source": [
    "from sklearn.metrics import confusion_matrix\n",
    "\n",
    "log_cm_M = confusion_matrix(y1_test, y1_pred) \n",
    "\n",
    "print(log_cm_M)"
   ]
  },
  {
   "cell_type": "code",
   "execution_count": 151,
   "metadata": {},
   "outputs": [
    {
     "name": "stdout",
     "output_type": "stream",
     "text": [
      "            예측 : 이탈 1  예측 : 미이탈 0\n",
      "실제 : 이탈 1           3          91\n",
      "실제 : 미이탈 0         23        6795\n"
     ]
    }
   ],
   "source": [
    "log_cmtx_M = pd.DataFrame(\n",
    "    confusion_matrix(y1_test, y1_pred, labels= [1, 0]),\n",
    "    index = ['실제 : 이탈 1', '실제 : 미이탈 0'],\n",
    "    columns = ['예측 : 이탈 1', '예측 : 미이탈 0']\n",
    ")\n",
    "\n",
    "print(log_cmtx_M)"
   ]
  },
  {
   "cell_type": "code",
   "execution_count": 148,
   "metadata": {},
   "outputs": [
    {
     "name": "stdout",
     "output_type": "stream",
     "text": [
      "[[5011    0]\n",
      " [  78    0]]\n"
     ]
    }
   ],
   "source": [
    "from sklearn.metrics import confusion_matrix\n",
    "\n",
    "log_cm_F = confusion_matrix(y2_test, y2_pred) \n",
    "\n",
    "print(log_cm_F)"
   ]
  },
  {
   "cell_type": "code",
   "execution_count": 149,
   "metadata": {},
   "outputs": [
    {
     "name": "stdout",
     "output_type": "stream",
     "text": [
      "            예측 : 이탈 1  예측 : 미이탈 0\n",
      "실제 : 이탈 1           0          78\n",
      "실제 : 미이탈 0          0        5011\n"
     ]
    }
   ],
   "source": [
    "log_cmtx_F = pd.DataFrame(\n",
    "    confusion_matrix(y2_test, y2_pred, labels= [1, 0]),\n",
    "    index = ['실제 : 이탈 1', '실제 : 미이탈 0'],\n",
    "    columns = ['예측 : 이탈 1', '예측 : 미이탈 0']\n",
    ")\n",
    "\n",
    "print(log_cmtx_F)"
   ]
  },
  {
   "cell_type": "markdown",
   "metadata": {},
   "source": [
    "# light gbm"
   ]
  },
  {
   "cell_type": "code",
   "execution_count": 91,
   "metadata": {},
   "outputs": [
    {
     "name": "stdout",
     "output_type": "stream",
     "text": [
      "[LightGBM] [Warning] Auto-choosing row-wise multi-threading, the overhead of testing was 0.000513 seconds.\n",
      "You can set `force_row_wise=true` to remove the overhead.\n",
      "And if memory is not enough, you can set `force_col_wise=true`.\n"
     ]
    },
    {
     "data": {
      "text/html": [
       "<style>#sk-container-id-4 {color: black;}#sk-container-id-4 pre{padding: 0;}#sk-container-id-4 div.sk-toggleable {background-color: white;}#sk-container-id-4 label.sk-toggleable__label {cursor: pointer;display: block;width: 100%;margin-bottom: 0;padding: 0.3em;box-sizing: border-box;text-align: center;}#sk-container-id-4 label.sk-toggleable__label-arrow:before {content: \"▸\";float: left;margin-right: 0.25em;color: #696969;}#sk-container-id-4 label.sk-toggleable__label-arrow:hover:before {color: black;}#sk-container-id-4 div.sk-estimator:hover label.sk-toggleable__label-arrow:before {color: black;}#sk-container-id-4 div.sk-toggleable__content {max-height: 0;max-width: 0;overflow: hidden;text-align: left;background-color: #f0f8ff;}#sk-container-id-4 div.sk-toggleable__content pre {margin: 0.2em;color: black;border-radius: 0.25em;background-color: #f0f8ff;}#sk-container-id-4 input.sk-toggleable__control:checked~div.sk-toggleable__content {max-height: 200px;max-width: 100%;overflow: auto;}#sk-container-id-4 input.sk-toggleable__control:checked~label.sk-toggleable__label-arrow:before {content: \"▾\";}#sk-container-id-4 div.sk-estimator input.sk-toggleable__control:checked~label.sk-toggleable__label {background-color: #d4ebff;}#sk-container-id-4 div.sk-label input.sk-toggleable__control:checked~label.sk-toggleable__label {background-color: #d4ebff;}#sk-container-id-4 input.sk-hidden--visually {border: 0;clip: rect(1px 1px 1px 1px);clip: rect(1px, 1px, 1px, 1px);height: 1px;margin: -1px;overflow: hidden;padding: 0;position: absolute;width: 1px;}#sk-container-id-4 div.sk-estimator {font-family: monospace;background-color: #f0f8ff;border: 1px dotted black;border-radius: 0.25em;box-sizing: border-box;margin-bottom: 0.5em;}#sk-container-id-4 div.sk-estimator:hover {background-color: #d4ebff;}#sk-container-id-4 div.sk-parallel-item::after {content: \"\";width: 100%;border-bottom: 1px solid gray;flex-grow: 1;}#sk-container-id-4 div.sk-label:hover label.sk-toggleable__label {background-color: #d4ebff;}#sk-container-id-4 div.sk-serial::before {content: \"\";position: absolute;border-left: 1px solid gray;box-sizing: border-box;top: 0;bottom: 0;left: 50%;z-index: 0;}#sk-container-id-4 div.sk-serial {display: flex;flex-direction: column;align-items: center;background-color: white;padding-right: 0.2em;padding-left: 0.2em;position: relative;}#sk-container-id-4 div.sk-item {position: relative;z-index: 1;}#sk-container-id-4 div.sk-parallel {display: flex;align-items: stretch;justify-content: center;background-color: white;position: relative;}#sk-container-id-4 div.sk-item::before, #sk-container-id-4 div.sk-parallel-item::before {content: \"\";position: absolute;border-left: 1px solid gray;box-sizing: border-box;top: 0;bottom: 0;left: 50%;z-index: -1;}#sk-container-id-4 div.sk-parallel-item {display: flex;flex-direction: column;z-index: 1;position: relative;background-color: white;}#sk-container-id-4 div.sk-parallel-item:first-child::after {align-self: flex-end;width: 50%;}#sk-container-id-4 div.sk-parallel-item:last-child::after {align-self: flex-start;width: 50%;}#sk-container-id-4 div.sk-parallel-item:only-child::after {width: 0;}#sk-container-id-4 div.sk-dashed-wrapped {border: 1px dashed gray;margin: 0 0.4em 0.5em 0.4em;box-sizing: border-box;padding-bottom: 0.4em;background-color: white;}#sk-container-id-4 div.sk-label label {font-family: monospace;font-weight: bold;display: inline-block;line-height: 1.2em;}#sk-container-id-4 div.sk-label-container {text-align: center;}#sk-container-id-4 div.sk-container {/* jupyter's `normalize.less` sets `[hidden] { display: none; }` but bootstrap.min.css set `[hidden] { display: none !important; }` so we also need the `!important` here to be able to override the default hidden behavior on the sphinx rendered scikit-learn.org. See: https://github.com/scikit-learn/scikit-learn/issues/21755 */display: inline-block !important;position: relative;}#sk-container-id-4 div.sk-text-repr-fallback {display: none;}</style><div id=\"sk-container-id-4\" class=\"sk-top-container\"><div class=\"sk-text-repr-fallback\"><pre>LGBMClassifier(random_state=0, verbose=0)</pre><b>In a Jupyter environment, please rerun this cell to show the HTML representation or trust the notebook. <br />On GitHub, the HTML representation is unable to render, please try loading this page with nbviewer.org.</b></div><div class=\"sk-container\" hidden><div class=\"sk-item\"><div class=\"sk-estimator sk-toggleable\"><input class=\"sk-toggleable__control sk-hidden--visually\" id=\"sk-estimator-id-4\" type=\"checkbox\" checked><label for=\"sk-estimator-id-4\" class=\"sk-toggleable__label sk-toggleable__label-arrow\">LGBMClassifier</label><div class=\"sk-toggleable__content\"><pre>LGBMClassifier(random_state=0, verbose=0)</pre></div></div></div></div></div>"
      ],
      "text/plain": [
       "LGBMClassifier(random_state=0, verbose=0)"
      ]
     },
     "execution_count": 91,
     "metadata": {},
     "output_type": "execute_result"
    }
   ],
   "source": [
    "lgbm_model_M = LGBMClassifier(random_state = 0, verbose = 0)\n",
    "lgbm_model_M.fit(X1_train, y1_train)"
   ]
  },
  {
   "cell_type": "code",
   "execution_count": 92,
   "metadata": {},
   "outputs": [
    {
     "name": "stdout",
     "output_type": "stream",
     "text": [
      "[LightGBM] [Warning] Auto-choosing row-wise multi-threading, the overhead of testing was 0.000274 seconds.\n",
      "You can set `force_row_wise=true` to remove the overhead.\n",
      "And if memory is not enough, you can set `force_col_wise=true`.\n"
     ]
    },
    {
     "data": {
      "text/html": [
       "<style>#sk-container-id-5 {color: black;}#sk-container-id-5 pre{padding: 0;}#sk-container-id-5 div.sk-toggleable {background-color: white;}#sk-container-id-5 label.sk-toggleable__label {cursor: pointer;display: block;width: 100%;margin-bottom: 0;padding: 0.3em;box-sizing: border-box;text-align: center;}#sk-container-id-5 label.sk-toggleable__label-arrow:before {content: \"▸\";float: left;margin-right: 0.25em;color: #696969;}#sk-container-id-5 label.sk-toggleable__label-arrow:hover:before {color: black;}#sk-container-id-5 div.sk-estimator:hover label.sk-toggleable__label-arrow:before {color: black;}#sk-container-id-5 div.sk-toggleable__content {max-height: 0;max-width: 0;overflow: hidden;text-align: left;background-color: #f0f8ff;}#sk-container-id-5 div.sk-toggleable__content pre {margin: 0.2em;color: black;border-radius: 0.25em;background-color: #f0f8ff;}#sk-container-id-5 input.sk-toggleable__control:checked~div.sk-toggleable__content {max-height: 200px;max-width: 100%;overflow: auto;}#sk-container-id-5 input.sk-toggleable__control:checked~label.sk-toggleable__label-arrow:before {content: \"▾\";}#sk-container-id-5 div.sk-estimator input.sk-toggleable__control:checked~label.sk-toggleable__label {background-color: #d4ebff;}#sk-container-id-5 div.sk-label input.sk-toggleable__control:checked~label.sk-toggleable__label {background-color: #d4ebff;}#sk-container-id-5 input.sk-hidden--visually {border: 0;clip: rect(1px 1px 1px 1px);clip: rect(1px, 1px, 1px, 1px);height: 1px;margin: -1px;overflow: hidden;padding: 0;position: absolute;width: 1px;}#sk-container-id-5 div.sk-estimator {font-family: monospace;background-color: #f0f8ff;border: 1px dotted black;border-radius: 0.25em;box-sizing: border-box;margin-bottom: 0.5em;}#sk-container-id-5 div.sk-estimator:hover {background-color: #d4ebff;}#sk-container-id-5 div.sk-parallel-item::after {content: \"\";width: 100%;border-bottom: 1px solid gray;flex-grow: 1;}#sk-container-id-5 div.sk-label:hover label.sk-toggleable__label {background-color: #d4ebff;}#sk-container-id-5 div.sk-serial::before {content: \"\";position: absolute;border-left: 1px solid gray;box-sizing: border-box;top: 0;bottom: 0;left: 50%;z-index: 0;}#sk-container-id-5 div.sk-serial {display: flex;flex-direction: column;align-items: center;background-color: white;padding-right: 0.2em;padding-left: 0.2em;position: relative;}#sk-container-id-5 div.sk-item {position: relative;z-index: 1;}#sk-container-id-5 div.sk-parallel {display: flex;align-items: stretch;justify-content: center;background-color: white;position: relative;}#sk-container-id-5 div.sk-item::before, #sk-container-id-5 div.sk-parallel-item::before {content: \"\";position: absolute;border-left: 1px solid gray;box-sizing: border-box;top: 0;bottom: 0;left: 50%;z-index: -1;}#sk-container-id-5 div.sk-parallel-item {display: flex;flex-direction: column;z-index: 1;position: relative;background-color: white;}#sk-container-id-5 div.sk-parallel-item:first-child::after {align-self: flex-end;width: 50%;}#sk-container-id-5 div.sk-parallel-item:last-child::after {align-self: flex-start;width: 50%;}#sk-container-id-5 div.sk-parallel-item:only-child::after {width: 0;}#sk-container-id-5 div.sk-dashed-wrapped {border: 1px dashed gray;margin: 0 0.4em 0.5em 0.4em;box-sizing: border-box;padding-bottom: 0.4em;background-color: white;}#sk-container-id-5 div.sk-label label {font-family: monospace;font-weight: bold;display: inline-block;line-height: 1.2em;}#sk-container-id-5 div.sk-label-container {text-align: center;}#sk-container-id-5 div.sk-container {/* jupyter's `normalize.less` sets `[hidden] { display: none; }` but bootstrap.min.css set `[hidden] { display: none !important; }` so we also need the `!important` here to be able to override the default hidden behavior on the sphinx rendered scikit-learn.org. See: https://github.com/scikit-learn/scikit-learn/issues/21755 */display: inline-block !important;position: relative;}#sk-container-id-5 div.sk-text-repr-fallback {display: none;}</style><div id=\"sk-container-id-5\" class=\"sk-top-container\"><div class=\"sk-text-repr-fallback\"><pre>LGBMClassifier(random_state=0, verbose=0)</pre><b>In a Jupyter environment, please rerun this cell to show the HTML representation or trust the notebook. <br />On GitHub, the HTML representation is unable to render, please try loading this page with nbviewer.org.</b></div><div class=\"sk-container\" hidden><div class=\"sk-item\"><div class=\"sk-estimator sk-toggleable\"><input class=\"sk-toggleable__control sk-hidden--visually\" id=\"sk-estimator-id-5\" type=\"checkbox\" checked><label for=\"sk-estimator-id-5\" class=\"sk-toggleable__label sk-toggleable__label-arrow\">LGBMClassifier</label><div class=\"sk-toggleable__content\"><pre>LGBMClassifier(random_state=0, verbose=0)</pre></div></div></div></div></div>"
      ],
      "text/plain": [
       "LGBMClassifier(random_state=0, verbose=0)"
      ]
     },
     "execution_count": 92,
     "metadata": {},
     "output_type": "execute_result"
    }
   ],
   "source": [
    "lgbm_model_F = LGBMClassifier(random_state = 0, verbose = 0)\n",
    "lgbm_model_F.fit(X2_train, y2_train)"
   ]
  },
  {
   "cell_type": "code",
   "execution_count": 93,
   "metadata": {},
   "outputs": [
    {
     "name": "stdout",
     "output_type": "stream",
     "text": [
      "예측 이탈 : 81, 미이탈 :6831\n"
     ]
    }
   ],
   "source": [
    "y1_pred = lgbm_model_M.predict(X1_test)\n",
    "y1_pred = list(y1_pred)\n",
    "print(f\"예측 이탈 : {y1_pred.count(1)}, 미이탈 :{y1_pred.count(0)}\")"
   ]
  },
  {
   "cell_type": "code",
   "execution_count": 94,
   "metadata": {},
   "outputs": [
    {
     "name": "stdout",
     "output_type": "stream",
     "text": [
      "예측 이탈 : 61, 미이탈 :5028\n"
     ]
    }
   ],
   "source": [
    "y2_pred = lgbm_model_F.predict(X2_test)\n",
    "y2_pred = list(y2_pred)\n",
    "print(f\"예측 이탈 : {y2_pred.count(1)}, 미이탈 :{y2_pred.count(0)}\")"
   ]
  },
  {
   "cell_type": "code",
   "execution_count": 95,
   "metadata": {},
   "outputs": [
    {
     "data": {
      "text/plain": [
       "0.9940682870370371"
      ]
     },
     "execution_count": 95,
     "metadata": {},
     "output_type": "execute_result"
    }
   ],
   "source": [
    "accuracy_score(y1_test, y1_pred)"
   ]
  },
  {
   "cell_type": "code",
   "execution_count": 96,
   "metadata": {},
   "outputs": [
    {
     "data": {
      "text/plain": [
       "0.9919434073491845"
      ]
     },
     "execution_count": 96,
     "metadata": {},
     "output_type": "execute_result"
    }
   ],
   "source": [
    "accuracy_score(y2_test, y2_pred)"
   ]
  },
  {
   "cell_type": "code",
   "execution_count": 97,
   "metadata": {},
   "outputs": [
    {
     "data": {
      "text/plain": [
       "(0.8271604938271605, 0.7127659574468085, 0.7657142857142857, None)"
      ]
     },
     "execution_count": 97,
     "metadata": {},
     "output_type": "execute_result"
    }
   ],
   "source": [
    "precision_recall_fscore_support(y1_test, y1_pred, average='binary')"
   ]
  },
  {
   "cell_type": "code",
   "execution_count": 98,
   "metadata": {},
   "outputs": [
    {
     "data": {
      "text/plain": [
       "(0.8032786885245902, 0.6282051282051282, 0.7050359712230215, None)"
      ]
     },
     "execution_count": 98,
     "metadata": {},
     "output_type": "execute_result"
    }
   ],
   "source": [
    "precision_recall_fscore_support(y2_test, y2_pred, average='binary')"
   ]
  },
  {
   "cell_type": "code",
   "execution_count": 99,
   "metadata": {},
   "outputs": [
    {
     "data": {
      "text/plain": [
       "<Axes: title={'center': 'Feature importance'}, xlabel='Feature importance', ylabel='Features'>"
      ]
     },
     "execution_count": 99,
     "metadata": {},
     "output_type": "execute_result"
    },
    {
     "data": {
      "image/png": "[encoded data removed]",
      "text/plain": [
       "<Figure size 500x500 with 1 Axes>"
      ]
     },
     "metadata": {},
     "output_type": "display_data"
    }
   ],
   "source": [
    "fig, ax = plt.subplots(figsize = (5,5))\n",
    "plot_importance(lgbm_model_M, ax = ax)"
   ]
  },
  {
   "cell_type": "code",
   "execution_count": 100,
   "metadata": {},
   "outputs": [
    {
     "data": {
      "text/plain": [
       "<Axes: title={'center': 'Feature importance'}, xlabel='Feature importance', ylabel='Features'>"
      ]
     },
     "execution_count": 100,
     "metadata": {},
     "output_type": "execute_result"
    },
    {
     "data": {
      "image/png": "[encoded data removed]",
      "text/plain": [
       "<Figure size 500x500 with 1 Axes>"
      ]
     },
     "metadata": {},
     "output_type": "display_data"
    }
   ],
   "source": [
    "fig, ax = plt.subplots(figsize = (5,5))\n",
    "plot_importance(lgbm_model_F, ax = ax)"
   ]
  },
  {
   "cell_type": "code",
   "execution_count": 104,
   "metadata": {},
   "outputs": [
    {
     "name": "stdout",
     "output_type": "stream",
     "text": [
      "[[6804   14]\n",
      " [  27   67]]\n",
      "[[4999   12]\n",
      " [  29   49]]\n"
     ]
    }
   ],
   "source": [
    "from sklearn.metrics import confusion_matrix\n",
    "cm_M = confusion_matrix(y1_test, y1_pred) \n",
    "cm_F = confusion_matrix(y2_test, y2_pred) \n",
    "\n",
    "print(cm_M)\n",
    "print(cm_F)"
   ]
  },
  {
   "cell_type": "code",
   "execution_count": 113,
   "metadata": {},
   "outputs": [
    {
     "name": "stdout",
     "output_type": "stream",
     "text": [
      "            예측 : 이탈 1  예측 : 미이탈 0\n",
      "실제 : 이탈 1          67          27\n",
      "실제 : 미이탈 0         14        6804\n",
      "#########################################\n",
      "            예측 : 이탈 1  예측 : 미이탈 0\n",
      "실제 : 이탈 1          49          29\n",
      "실제 : 미이탈 0         12        4999\n"
     ]
    }
   ],
   "source": [
    "cmtx_M = pd.DataFrame(\n",
    "    confusion_matrix(y1_test, y1_pred, labels= [1, 0]),\n",
    "    index = ['실제 : 이탈 1', '실제 : 미이탈 0'],\n",
    "    columns = ['예측 : 이탈 1', '예측 : 미이탈 0']\n",
    ")\n",
    "\n",
    "cmtx_F = pd.DataFrame(\n",
    "    confusion_matrix(y2_test, y2_pred, labels= [1, 0]),\n",
    "    index = ['실제 : 이탈 1', '실제 : 미이탈 0'],\n",
    "    columns = ['예측 : 이탈 1', '예측 : 미이탈 0']\n",
    ")\n",
    "print(cmtx_M)\n",
    "print(\"#########################################\")\n",
    "print(cmtx_F)"
   ]
  },
  {
   "cell_type": "code",
   "execution_count": 110,
   "metadata": {},
   "outputs": [
    {
     "name": "stdout",
     "output_type": "stream",
     "text": [
      "남자 precision: 0.8271604938271605\n",
      "여자 precision: 0.8032786885245902\n",
      "//////////////////////////\n",
      "남자 recall : 0.7127659574468085\n",
      "여자 recall : 0.6282051282051282\n",
      "//////////////////////////\n",
      "남자 f1-score : 0.7657142857142857\n",
      "여자 f1-score : 0.7050359712230215\n"
     ]
    }
   ],
   "source": [
    "#precision\n",
    "pre_M = cmtx_M.iloc[0, 0] / (cmtx_M.iloc[0, 0] + cmtx_M.iloc[1, 0])\n",
    "pre_F = cmtx_F.iloc[0, 0] / (cmtx_F.iloc[0, 0] + cmtx_F.iloc[1, 0])\n",
    "\n",
    "print(f\"남자 precision: {pre_M}\")\n",
    "print(f\"여자 precision: {pre_F}\")\n",
    "print(\"//////////////////////////\")\n",
    "\n",
    "#recall\n",
    "re_M = cmtx_M.iloc[0, 0] / (cmtx_M.iloc[0, 0] + cmtx_M.iloc[0, 1])\n",
    "re_F = cmtx_F.iloc[0, 0] / (cmtx_F.iloc[0, 0] + cmtx_F.iloc[0, 1])\n",
    "\n",
    "print(f\"남자 recall : {re_M}\")\n",
    "print(f\"여자 recall : {re_F}\")\n",
    "print(\"//////////////////////////\")\n",
    "\n",
    "#F1_score\n",
    "f1_M = (2*(pre_M*re_M)) / (pre_M+re_M)\n",
    "f1_F = (2*(pre_F*re_F)) / (pre_F+re_F)\n",
    "\n",
    "print(f\"남자 f1-score : {f1_M}\")\n",
    "print(f\"여자 f1-score : {f1_F}\")\n"
   ]
  },
  {
   "cell_type": "code",
   "execution_count": 116,
   "metadata": {},
   "outputs": [
    {
     "name": "stdout",
     "output_type": "stream",
     "text": [
      "{'learning_rate': 0.1, 'max_depth': 7, 'min_child_samples': 20, 'num_leaves': 20}\n"
     ]
    },
    {
     "data": {
      "text/plain": [
       "(0.85, 0.723404255319149, 0.7816091954022989, None)"
      ]
     },
     "execution_count": 116,
     "metadata": {},
     "output_type": "execute_result"
    }
   ],
   "source": [
    "# LightGBM 모델 생성\n",
    "model = LGBMClassifier(verbose = -1)\n",
    "\n",
    "# 하이퍼파라미터 그리드 설정\n",
    "param_grid = {\n",
    "    'num_leaves' : [10, 20, 30], \n",
    "    'max_depth' : [3, 5, 7],\n",
    "    'learning_rate' : [0.01, 0.05, 0.1],\n",
    "    'min_child_samples' : [10, 20, 30]\n",
    "}\n",
    "\n",
    "# GridSearchCV 객체 생성\n",
    "\n",
    "grid_search = GridSearchCV(estimator=model, param_grid=param_grid)\n",
    "\n",
    "# 그리드 서치 수행\n",
    "grid_search.fit(X1_train, y1_train)\n",
    "\n",
    "# 최적의 하이퍼파라미터\n",
    "print(grid_search.best_params_)\n",
    "# 최적의 하이퍼파라미터로 학습된 모델 가져오기\n",
    "best_model = grid_search.best_estimator_\n",
    "y1_pred = best_model.predict(X1_test)\n",
    "# 예측 수행\n",
    "precision_recall_fscore_support(y1_test, y1_pred, average='binary')"
   ]
  },
  {
   "cell_type": "code",
   "execution_count": 117,
   "metadata": {},
   "outputs": [
    {
     "name": "stdout",
     "output_type": "stream",
     "text": [
      "{'learning_rate': 0.1, 'max_depth': 7, 'min_child_samples': 20, 'num_leaves': 20}\n"
     ]
    },
    {
     "data": {
      "text/plain": [
       "(0.7894736842105263, 0.5769230769230769, 0.6666666666666666, None)"
      ]
     },
     "execution_count": 117,
     "metadata": {},
     "output_type": "execute_result"
    }
   ],
   "source": [
    "# 그리드 서치 수행\n",
    "grid_search.fit(X2_train, y2_train)\n",
    "\n",
    "# 최적의 하이퍼파라미터\n",
    "print(grid_search.best_params_)\n",
    "# 최적의 하이퍼파라미터로 학습된 모델 가져오기\n",
    "best_model = grid_search.best_estimator_\n",
    "y2_pred = best_model.predict(X2_test)\n",
    "# 예측 수행\n",
    "precision_recall_fscore_support(y2_test, y2_pred, average='binary')"
   ]
  },
  {
   "cell_type": "markdown",
   "metadata": {},
   "source": []
  }
 ],
 "metadata": {
  "kernelspec": {
   "display_name": "Python 3",
   "language": "python",
   "name": "python3"
  },
  "language_info": {
   "codemirror_mode": {
    "name": "ipython",
    "version": 3
   },
   "file_extension": ".py",
   "mimetype": "text/x-python",
   "name": "python",
   "nbconvert_exporter": "python",
   "pygments_lexer": "ipython3",
   "version": "3.11.4"
  }
 },
 "nbformat": 4,
 "nbformat_minor": 2
}
