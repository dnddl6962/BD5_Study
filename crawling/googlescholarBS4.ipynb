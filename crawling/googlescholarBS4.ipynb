{
 "cells": [
  {
   "cell_type": "code",
   "execution_count": 1,
   "id": "e938a727",
   "metadata": {},
   "outputs": [],
   "source": [
    "import pandas as pd\n",
    "from requests import get\n",
    "from bs4 import BeautifulSoup"
   ]
  },
  {
   "cell_type": "code",
   "execution_count": 19,
   "id": "30b785bb",
   "metadata": {},
   "outputs": [],
   "source": [
    "base_url = \"https://scholar.google.co.kr/scholar?hl=ko\"\n",
    "page = 0\n",
    "keyword = \"교육\"\n",
    "full_url = f'{base_url}&start={page}&q={keyword}'"
   ]
  },
  {
   "cell_type": "code",
   "execution_count": 20,
   "id": "88887cf1",
   "metadata": {},
   "outputs": [],
   "source": [
    "response = get(full_url)"
   ]
  },
  {
   "cell_type": "code",
   "execution_count": 21,
   "id": "f4152c80",
   "metadata": {},
   "outputs": [
    {
     "data": {
      "text/plain": [
       "200"
      ]
     },
     "execution_count": 21,
     "metadata": {},
     "output_type": "execute_result"
    }
   ],
   "source": [
    "response.status_code"
   ]
  },
  {
   "cell_type": "code",
   "execution_count": 22,
   "id": "169a1745",
   "metadata": {},
   "outputs": [],
   "source": [
    "soup = BeautifulSoup(response.text, 'html.parser')"
   ]
  },
  {
   "cell_type": "code",
   "execution_count": 23,
   "id": "8ba58686",
   "metadata": {},
   "outputs": [],
   "source": [
    "list_a = soup.find_all('h3', class_ = \"gs_rt\")"
   ]
  },
  {
   "cell_type": "code",
   "execution_count": 24,
   "id": "b1b29d42",
   "metadata": {},
   "outputs": [
    {
     "data": {
      "text/plain": [
       "[<h3 class=\"gs_rt\" ontouchstart=\"gs_evt_dsp(event)\"><a data-clk=\"hl=ko&amp;sa=T&amp;ct=res&amp;cd=0&amp;d=16580056630559860026&amp;ei=3WwvZYrBLK6ty9YPsP2JqA8\" data-clk-atid=\"OmVhHKkxGOYJ\" href=\"https://scholar.kyobobook.co.kr/article/detail/4010026189241\" id=\"OmVhHKkxGOYJ\">우리나라 STEAM <b>교육</b>의 방향</a></h3>,\n",
       " <h3 class=\"gs_rt\" ontouchstart=\"gs_evt_dsp(event)\"><span class=\"gs_ctc\"><span class=\"gs_ct1\">[HTML]</span><span class=\"gs_ct2\">[HTML]</span></span> <a data-clk=\"hl=ko&amp;sa=T&amp;oi=ggp&amp;ct=res&amp;cd=1&amp;d=12599901586933963810&amp;ei=3WwvZYrBLK6ty9YPsP2JqA8\" data-clk-atid=\"IlwUdrzX264J\" href=\"http://down.edunet4u.net/KEDTLC/MTOOL/files/kem/2006/09/28/10724253788847%C2%F7%BB%E7%C8%B8%B0%FA%B1%B3%C0%B0%B0%FA%C1%A4.hwp\" id=\"IlwUdrzX264J\">사회과 <b>교육</b>과정</a></h3>,\n",
       " <h3 class=\"gs_rt\" ontouchstart=\"gs_evt_dsp(event)\"><a data-clk=\"hl=ko&amp;sa=T&amp;ct=res&amp;cd=2&amp;d=5851055994416192582&amp;ei=3WwvZYrBLK6ty9YPsP2JqA8\" data-clk-atid=\"RtwYPG0gM1EJ\" href=\"https://papersearch.net/thesis/article.asp?key=2643821\" id=\"RtwYPG0gM1EJ\">학교<b>교육</b>의 맥락에서 본</a></h3>,\n",
       " <h3 class=\"gs_rt\" ontouchstart=\"gs_evt_dsp(event)\"><a data-clk=\"hl=ko&amp;sa=T&amp;ct=res&amp;cd=3&amp;d=16542507488079463234&amp;ei=3WwvZYrBLK6ty9YPsP2JqA8\" data-clk-atid=\"QkM3GerKkuUJ\" href=\"https://scholar.kyobobook.co.kr/article/detail/4050027402899\" id=\"QkM3GerKkuUJ\">기술<b>교육</b>의 새로운 통합<b>교육 </b>방법인 STEM <b>교육</b>의 탐색</a></h3>,\n",
       " <h3 class=\"gs_rt\" ontouchstart=\"gs_evt_dsp(event)\"><a data-clk=\"hl=ko&amp;sa=T&amp;ct=res&amp;cd=4&amp;d=7365920791620030191&amp;ei=3WwvZYrBLK6ty9YPsP2JqA8\" data-clk-atid=\"7w4tBO8BOWYJ\" href=\"https://scholar.kyobobook.co.kr/article/detail/4050027400158\" id=\"7w4tBO8BOWYJ\">STEAM <b>교육</b>을 위한 큐빅 모형</a></h3>,\n",
       " <h3 class=\"gs_rt\" ontouchstart=\"gs_evt_dsp(event)\"><a data-clk=\"hl=ko&amp;sa=T&amp;ct=res&amp;cd=5&amp;d=2040895033656979868&amp;ei=3WwvZYrBLK6ty9YPsP2JqA8\" data-clk-atid=\"nLH7UDi3UhwJ\" href=\"https://scholar.kyobobook.co.kr/article/detail/4010028166987\" id=\"nLH7UDi3UhwJ\">고등<b>교육</b>에서의 역량기반 <b>교육</b>과 핵심역량</a></h3>,\n",
       " <h3 class=\"gs_rt\" ontouchstart=\"gs_evt_dsp(event)\"><span class=\"gs_ctc\"><span class=\"gs_ct1\">[PDF]</span><span class=\"gs_ct2\">[PDF]</span></span> <a data-clk=\"hl=ko&amp;sa=T&amp;oi=ggp&amp;ct=res&amp;cd=6&amp;d=3711197586310244831&amp;ei=3WwvZYrBLK6ty9YPsP2JqA8\" data-clk-atid=\"3ylPv4rSgDMJ\" href=\"https://j-kagedu.or.kr/upload/pdf/kagedu-3-2-5.pdf\" id=\"3ylPv4rSgDMJ\">교양<b>교육</b>의 새로운 위상과 그 강화 방책</a></h3>,\n",
       " <h3 class=\"gs_rt\" ontouchstart=\"gs_evt_dsp(event)\"><a data-clk=\"hl=ko&amp;sa=T&amp;ct=res&amp;cd=7&amp;d=419363920014512960&amp;ei=3WwvZYrBLK6ty9YPsP2JqA8\" data-clk-atid=\"QJMUbEPh0QUJ\" href=\"https://scholar.kyobobook.co.kr/article/detail/4010023264615\" id=\"QJMUbEPh0QUJ\">인성<b>교육</b>의 문제점 및 창의ㆍ인성<b>교육</b>의 이론적 고찰</a></h3>,\n",
       " <h3 class=\"gs_rt\" ontouchstart=\"gs_evt_dsp(event)\"><a data-clk=\"hl=ko&amp;sa=T&amp;ct=res&amp;cd=8&amp;d=8349182787781976510&amp;ei=3WwvZYrBLK6ty9YPsP2JqA8\" data-clk-atid=\"vuGMdoJB3nMJ\" href=\"https://papersearch.net/thesis/article.asp?key=3095987\" id=\"vuGMdoJB3nMJ\">예술<b>교육</b>을 통한 창의· 인성<b>교육</b></a></h3>,\n",
       " <h3 class=\"gs_rt\" ontouchstart=\"gs_evt_dsp(event)\"><a data-clk=\"hl=ko&amp;sa=T&amp;ct=res&amp;cd=9&amp;d=11976413005588293716&amp;ei=3WwvZYrBLK6ty9YPsP2JqA8\" data-clk-atid=\"VGh1wSzENKYJ\" href=\"https://www.dbpia.co.kr/Journal/articleDetail?nodeId=NODE10919861\" id=\"VGh1wSzENKYJ\">대학<b>교육</b>의 기능과 역할 변화에 따른 대안적 <b>교육</b>과정 담론</a></h3>]"
      ]
     },
     "execution_count": 24,
     "metadata": {},
     "output_type": "execute_result"
    }
   ],
   "source": [
    "list_a"
   ]
  },
  {
   "cell_type": "code",
   "execution_count": 25,
   "id": "06e2b96a",
   "metadata": {},
   "outputs": [],
   "source": [
    "title = []"
   ]
  },
  {
   "cell_type": "code",
   "execution_count": 26,
   "id": "7d2c02e1",
   "metadata": {},
   "outputs": [],
   "source": [
    "for i in range(len(list_a)):\n",
    "    title.append(list_a[i].find('a').text)"
   ]
  },
  {
   "cell_type": "code",
   "execution_count": 27,
   "id": "f7edad05",
   "metadata": {},
   "outputs": [
    {
     "data": {
      "text/plain": [
       "['우리나라 STEAM 교육의 방향',\n",
       " '사회과 교육과정',\n",
       " '학교교육의 맥락에서 본',\n",
       " '기술교육의 새로운 통합교육 방법인 STEM 교육의 탐색',\n",
       " 'STEAM 교육을 위한 큐빅 모형',\n",
       " '고등교육에서의 역량기반 교육과 핵심역량',\n",
       " '교양교육의 새로운 위상과 그 강화 방책',\n",
       " '인성교육의 문제점 및 창의ㆍ인성교육의 이론적 고찰',\n",
       " '예술교육을 통한 창의· 인성교육',\n",
       " '대학교육의 기능과 역할 변화에 따른 대안적 교육과정 담론']"
      ]
     },
     "execution_count": 27,
     "metadata": {},
     "output_type": "execute_result"
    }
   ],
   "source": [
    "title"
   ]
  },
  {
   "cell_type": "code",
   "execution_count": 28,
   "id": "c8edf61d",
   "metadata": {},
   "outputs": [],
   "source": [
    "link = []"
   ]
  },
  {
   "cell_type": "code",
   "execution_count": 29,
   "id": "2777069e",
   "metadata": {},
   "outputs": [],
   "source": [
    "for i in range(len(list_a)):\n",
    "    link.append(list_a[i].find('a')['href'])"
   ]
  },
  {
   "cell_type": "code",
   "execution_count": 30,
   "id": "b513ad0f",
   "metadata": {},
   "outputs": [
    {
     "data": {
      "text/plain": [
       "['https://scholar.kyobobook.co.kr/article/detail/4010026189241',\n",
       " 'http://down.edunet4u.net/KEDTLC/MTOOL/files/kem/2006/09/28/10724253788847%C2%F7%BB%E7%C8%B8%B0%FA%B1%B3%C0%B0%B0%FA%C1%A4.hwp',\n",
       " 'https://papersearch.net/thesis/article.asp?key=2643821',\n",
       " 'https://scholar.kyobobook.co.kr/article/detail/4050027402899',\n",
       " 'https://scholar.kyobobook.co.kr/article/detail/4050027400158',\n",
       " 'https://scholar.kyobobook.co.kr/article/detail/4010028166987',\n",
       " 'https://j-kagedu.or.kr/upload/pdf/kagedu-3-2-5.pdf',\n",
       " 'https://scholar.kyobobook.co.kr/article/detail/4010023264615',\n",
       " 'https://papersearch.net/thesis/article.asp?key=3095987',\n",
       " 'https://www.dbpia.co.kr/Journal/articleDetail?nodeId=NODE10919861']"
      ]
     },
     "execution_count": 30,
     "metadata": {},
     "output_type": "execute_result"
    }
   ],
   "source": [
    "link"
   ]
  },
  {
   "cell_type": "code",
   "execution_count": 31,
   "id": "78bc87d9",
   "metadata": {},
   "outputs": [],
   "source": [
    "list_author = soup.find_all('div', class_ = \"gs_a\")"
   ]
  },
  {
   "cell_type": "code",
   "execution_count": 32,
   "id": "d7d74c17",
   "metadata": {},
   "outputs": [],
   "source": [
    "A = []"
   ]
  },
  {
   "cell_type": "code",
   "execution_count": 33,
   "id": "917c77d3",
   "metadata": {},
   "outputs": [],
   "source": [
    "for i in range(len(list_author)):\n",
    "    A.append(list_author[i].text.split('…')[0].split('\\xa0- ')[0])\n",
    "        \n"
   ]
  },
  {
   "cell_type": "code",
   "execution_count": 34,
   "id": "4b195f5b",
   "metadata": {},
   "outputs": [
    {
     "data": {
      "text/plain": [
       "['백윤수， 박현주， 김영민， 노석구',\n",
       " '교육부',\n",
       " '소경희',\n",
       " '김진수',\n",
       " '김진수',\n",
       " '손승남， 김인영， 송하석， 이재성， 최예정',\n",
       " '손동현',\n",
       " '최준환， 박춘성， 연경남， 민영경， 이은아',\n",
       " '김형숙',\n",
       " '박민정']"
      ]
     },
     "execution_count": 34,
     "metadata": {},
     "output_type": "execute_result"
    }
   ],
   "source": [
    "A"
   ]
  },
  {
   "cell_type": "code",
   "execution_count": 35,
   "id": "5934d6da",
   "metadata": {},
   "outputs": [],
   "source": [
    "RS = []"
   ]
  },
  {
   "cell_type": "code",
   "execution_count": 36,
   "id": "e6f352c0",
   "metadata": {},
   "outputs": [],
   "source": [
    "list_rs = soup.find_all('div', class_ = \"gs_rs\")"
   ]
  },
  {
   "cell_type": "code",
   "execution_count": 37,
   "id": "cc4eee8a",
   "metadata": {},
   "outputs": [],
   "source": [
    "for i in list_rs:\n",
    "    RS.append(i.text)"
   ]
  },
  {
   "cell_type": "code",
   "execution_count": 38,
   "id": "257980c0",
   "metadata": {},
   "outputs": [
    {
     "data": {
      "text/plain": [
       "['… 분야에서 많은 관심을 받고 있는 STEAM (science, technology, engineering, arts, mathematics) \\n교육은 미래 과학기술 사회가 요구하는 과학, 기술, 공학, 예술, 수학 등 다양한 분야의 융합적 …',\n",
       " '… 교육 과정의 성격 … 중학교 교육 목표 … 중학교 교육은 초등 학교 교육의 성과를 바탕으로, 학생\\n의 학습과 일상 생활에 필요한 기본 능력과 민주 시민으로서의 자질을 함양하는 데 중점을 둔다. …',\n",
       " '… 역량중심 교육(competency-based education), 역량중심 교육 과정(competency-based \\ncurriculum), 역량중심 교육평가(competency-based assessment) 등의 등장 은 이러한 관심을 반영…',\n",
       " '이 연구에서는 기술교육의 통합교육 방법으로 새롭게 시작된 STEM 교육에 대하여 탐색하기 \\n위하여 문헌연구 방법을 사용하였다. 최근 미국 교육 개혁의 아젠다 중의 하나는 STEM (과학, 기술…',\n",
       " '… 년 12월에 초중등교육의 강화를 위하여 STEAM 교육 정책을 발표하였으나, 아직까지 STEAM \\n교육에 관한 이론의 정립, STEAM 교육의 모형, STEAM 교육의 표준, STEAM … 통합 교육 이론 …',\n",
       " '… 에서 역량기반 교육과정의 설계와 개발, 대학 교양교육에서 역량기반 교육과정의 수용가능성\\n, 대학 교양교육 목표에 부합하는 핵심역량기반 교양교육 실현 방안 등이었다. 연구결과 우리는 …',\n",
       " '… 이에 융복합교육이 절실히 필요해졌으며, 융복합교육의 기초로서 교양교육이 중요해진 \\n것이다. 따라서 교양교육을 위해 그 강화방책이 절실히 요구되는데, 무엇보다 중요한 것은 교양…',\n",
       " '본 연구는 우리나라 인성교육의 역사와 특징을 살펴보고, 세계 각국의 최신 인성교육 자료들을 \\n정리하면서, 인성교육의 문제점을 지적하고, 아울러 인성교육의 대안 제시를 목적으로 연구를 …',\n",
       " '… 과정 이후 창의성과 인성을 아울러 갖춘 인재를 양성하는 교육에 대한 논의로 발전 전개되었다\\n. 창의․인성교육(creativity & character education)에 대한 논의가 2009 개정 교육과정에서 …',\n",
       " '이 연구에서는 고등교육에서 역량기반 교육과정이 어떠한 사회문화적 배경을 토대로 등장… 의 \\n역량기반 교육과정 구성 사례를 고찰한 후, 그것을 통해 대안적 교육과정 담론으로서 역량기반 …']"
      ]
     },
     "execution_count": 38,
     "metadata": {},
     "output_type": "execute_result"
    }
   ],
   "source": [
    "RS"
   ]
  },
  {
   "cell_type": "code",
   "execution_count": 39,
   "id": "81a22ee7",
   "metadata": {},
   "outputs": [],
   "source": [
    "result = {\n",
    "    0 : title,\n",
    "    1 : link,\n",
    "    2 : A,\n",
    "    3 : RS\n",
    "}"
   ]
  },
  {
   "cell_type": "code",
   "execution_count": 40,
   "id": "22ecd93c",
   "metadata": {},
   "outputs": [],
   "source": [
    "df = pd.DataFrame(result)"
   ]
  },
  {
   "cell_type": "code",
   "execution_count": 41,
   "id": "0125018a",
   "metadata": {},
   "outputs": [
    {
     "data": {
      "text/html": [
       "<div>\n",
       "<style scoped>\n",
       "    .dataframe tbody tr th:only-of-type {\n",
       "        vertical-align: middle;\n",
       "    }\n",
       "\n",
       "    .dataframe tbody tr th {\n",
       "        vertical-align: top;\n",
       "    }\n",
       "\n",
       "    .dataframe thead th {\n",
       "        text-align: right;\n",
       "    }\n",
       "</style>\n",
       "<table border=\"1\" class=\"dataframe\">\n",
       "  <thead>\n",
       "    <tr style=\"text-align: right;\">\n",
       "      <th></th>\n",
       "      <th>0</th>\n",
       "      <th>1</th>\n",
       "      <th>2</th>\n",
       "      <th>3</th>\n",
       "    </tr>\n",
       "  </thead>\n",
       "  <tbody>\n",
       "    <tr>\n",
       "      <th>0</th>\n",
       "      <td>우리나라 STEAM 교육의 방향</td>\n",
       "      <td>https://scholar.kyobobook.co.kr/article/detail...</td>\n",
       "      <td>백윤수， 박현주， 김영민， 노석구</td>\n",
       "      <td>… 분야에서 많은 관심을 받고 있는 STEAM (science, technology...</td>\n",
       "    </tr>\n",
       "    <tr>\n",
       "      <th>1</th>\n",
       "      <td>사회과 교육과정</td>\n",
       "      <td>http://down.edunet4u.net/KEDTLC/MTOOL/files/ke...</td>\n",
       "      <td>교육부</td>\n",
       "      <td>… 교육 과정의 성격 … 중학교 교육 목표 … 중학교 교육은 초등 학교 교육의 성과...</td>\n",
       "    </tr>\n",
       "    <tr>\n",
       "      <th>2</th>\n",
       "      <td>학교교육의 맥락에서 본</td>\n",
       "      <td>https://papersearch.net/thesis/article.asp?key...</td>\n",
       "      <td>소경희</td>\n",
       "      <td>… 역량중심 교육(competency-based education), 역량중심 교육...</td>\n",
       "    </tr>\n",
       "    <tr>\n",
       "      <th>3</th>\n",
       "      <td>기술교육의 새로운 통합교육 방법인 STEM 교육의 탐색</td>\n",
       "      <td>https://scholar.kyobobook.co.kr/article/detail...</td>\n",
       "      <td>김진수</td>\n",
       "      <td>이 연구에서는 기술교육의 통합교육 방법으로 새롭게 시작된 STEM 교육에 대하여 탐...</td>\n",
       "    </tr>\n",
       "    <tr>\n",
       "      <th>4</th>\n",
       "      <td>STEAM 교육을 위한 큐빅 모형</td>\n",
       "      <td>https://scholar.kyobobook.co.kr/article/detail...</td>\n",
       "      <td>김진수</td>\n",
       "      <td>… 년 12월에 초중등교육의 강화를 위하여 STEAM 교육 정책을 발표하였으나, 아...</td>\n",
       "    </tr>\n",
       "    <tr>\n",
       "      <th>5</th>\n",
       "      <td>고등교육에서의 역량기반 교육과 핵심역량</td>\n",
       "      <td>https://scholar.kyobobook.co.kr/article/detail...</td>\n",
       "      <td>손승남， 김인영， 송하석， 이재성， 최예정</td>\n",
       "      <td>… 에서 역량기반 교육과정의 설계와 개발, 대학 교양교육에서 역량기반 교육과정의 수...</td>\n",
       "    </tr>\n",
       "    <tr>\n",
       "      <th>6</th>\n",
       "      <td>교양교육의 새로운 위상과 그 강화 방책</td>\n",
       "      <td>https://j-kagedu.or.kr/upload/pdf/kagedu-3-2-5...</td>\n",
       "      <td>손동현</td>\n",
       "      <td>… 이에 융복합교육이 절실히 필요해졌으며, 융복합교육의 기초로서 교양교육이 중요해진...</td>\n",
       "    </tr>\n",
       "    <tr>\n",
       "      <th>7</th>\n",
       "      <td>인성교육의 문제점 및 창의ㆍ인성교육의 이론적 고찰</td>\n",
       "      <td>https://scholar.kyobobook.co.kr/article/detail...</td>\n",
       "      <td>최준환， 박춘성， 연경남， 민영경， 이은아</td>\n",
       "      <td>본 연구는 우리나라 인성교육의 역사와 특징을 살펴보고, 세계 각국의 최신 인성교육 ...</td>\n",
       "    </tr>\n",
       "    <tr>\n",
       "      <th>8</th>\n",
       "      <td>예술교육을 통한 창의· 인성교육</td>\n",
       "      <td>https://papersearch.net/thesis/article.asp?key...</td>\n",
       "      <td>김형숙</td>\n",
       "      <td>… 과정 이후 창의성과 인성을 아울러 갖춘 인재를 양성하는 교육에 대한 논의로 발전...</td>\n",
       "    </tr>\n",
       "    <tr>\n",
       "      <th>9</th>\n",
       "      <td>대학교육의 기능과 역할 변화에 따른 대안적 교육과정 담론</td>\n",
       "      <td>https://www.dbpia.co.kr/Journal/articleDetail?...</td>\n",
       "      <td>박민정</td>\n",
       "      <td>이 연구에서는 고등교육에서 역량기반 교육과정이 어떠한 사회문화적 배경을 토대로 등장...</td>\n",
       "    </tr>\n",
       "  </tbody>\n",
       "</table>\n",
       "</div>"
      ],
      "text/plain": [
       "                                 0  \\\n",
       "0                우리나라 STEAM 교육의 방향   \n",
       "1                         사회과 교육과정   \n",
       "2                     학교교육의 맥락에서 본   \n",
       "3   기술교육의 새로운 통합교육 방법인 STEM 교육의 탐색   \n",
       "4               STEAM 교육을 위한 큐빅 모형   \n",
       "5            고등교육에서의 역량기반 교육과 핵심역량   \n",
       "6            교양교육의 새로운 위상과 그 강화 방책   \n",
       "7      인성교육의 문제점 및 창의ㆍ인성교육의 이론적 고찰   \n",
       "8                예술교육을 통한 창의· 인성교육   \n",
       "9  대학교육의 기능과 역할 변화에 따른 대안적 교육과정 담론   \n",
       "\n",
       "                                                   1                        2  \\\n",
       "0  https://scholar.kyobobook.co.kr/article/detail...       백윤수， 박현주， 김영민， 노석구   \n",
       "1  http://down.edunet4u.net/KEDTLC/MTOOL/files/ke...                      교육부   \n",
       "2  https://papersearch.net/thesis/article.asp?key...                      소경희   \n",
       "3  https://scholar.kyobobook.co.kr/article/detail...                      김진수   \n",
       "4  https://scholar.kyobobook.co.kr/article/detail...                      김진수   \n",
       "5  https://scholar.kyobobook.co.kr/article/detail...  손승남， 김인영， 송하석， 이재성， 최예정   \n",
       "6  https://j-kagedu.or.kr/upload/pdf/kagedu-3-2-5...                      손동현   \n",
       "7  https://scholar.kyobobook.co.kr/article/detail...  최준환， 박춘성， 연경남， 민영경， 이은아   \n",
       "8  https://papersearch.net/thesis/article.asp?key...                      김형숙   \n",
       "9  https://www.dbpia.co.kr/Journal/articleDetail?...                      박민정   \n",
       "\n",
       "                                                   3  \n",
       "0  … 분야에서 많은 관심을 받고 있는 STEAM (science, technology...  \n",
       "1  … 교육 과정의 성격 … 중학교 교육 목표 … 중학교 교육은 초등 학교 교육의 성과...  \n",
       "2  … 역량중심 교육(competency-based education), 역량중심 교육...  \n",
       "3  이 연구에서는 기술교육의 통합교육 방법으로 새롭게 시작된 STEM 교육에 대하여 탐...  \n",
       "4  … 년 12월에 초중등교육의 강화를 위하여 STEAM 교육 정책을 발표하였으나, 아...  \n",
       "5  … 에서 역량기반 교육과정의 설계와 개발, 대학 교양교육에서 역량기반 교육과정의 수...  \n",
       "6  … 이에 융복합교육이 절실히 필요해졌으며, 융복합교육의 기초로서 교양교육이 중요해진...  \n",
       "7  본 연구는 우리나라 인성교육의 역사와 특징을 살펴보고, 세계 각국의 최신 인성교육 ...  \n",
       "8  … 과정 이후 창의성과 인성을 아울러 갖춘 인재를 양성하는 교육에 대한 논의로 발전...  \n",
       "9  이 연구에서는 고등교육에서 역량기반 교육과정이 어떠한 사회문화적 배경을 토대로 등장...  "
      ]
     },
     "execution_count": 41,
     "metadata": {},
     "output_type": "execute_result"
    }
   ],
   "source": [
    "df"
   ]
  },
  {
   "cell_type": "code",
   "execution_count": 42,
   "id": "82681b7c",
   "metadata": {},
   "outputs": [
    {
     "data": {
      "text/plain": [
       "'    if resonpse != 200:\\n        break'"
      ]
     },
     "execution_count": 42,
     "metadata": {},
     "output_type": "execute_result"
    }
   ],
   "source": [
    "while page < 90: # 10페이지까지\n",
    "    \n",
    "    full_url = f'{base_url}&start={page}&q={keyword}'\n",
    "    response = get(full_url)\n",
    "    soup = BeautifulSoup(response.text, 'html.parser')\n",
    "    for i in range(len(list_a)):\n",
    "        title.append(list_a[i].find('a').text)\n",
    "        link.append(list_a[i].find('a')['href'])\n",
    "        A.append(list_author[i].text.split('…')[0].split('\\xa0- ')[0])\n",
    "            \n",
    "    for i in list_rs:\n",
    "        RS.append(i.text)\n",
    "            \n",
    "    result = {\n",
    "        0 : title,\n",
    "        1 : link,\n",
    "        2 : A,\n",
    "        3 : RS\n",
    "    }\n",
    "    page +=10\n",
    "\"\"\"    if resonpse != 200:\n",
    "        break\"\"\"\n",
    "    "
   ]
  },
  {
   "cell_type": "code",
   "execution_count": 45,
   "id": "c6bc5920",
   "metadata": {},
   "outputs": [],
   "source": [
    "df_result = pd.DataFrame(result)"
   ]
  },
  {
   "cell_type": "code",
   "execution_count": 46,
   "id": "fa63d70f",
   "metadata": {},
   "outputs": [
    {
     "data": {
      "text/html": [
       "<div>\n",
       "<style scoped>\n",
       "    .dataframe tbody tr th:only-of-type {\n",
       "        vertical-align: middle;\n",
       "    }\n",
       "\n",
       "    .dataframe tbody tr th {\n",
       "        vertical-align: top;\n",
       "    }\n",
       "\n",
       "    .dataframe thead th {\n",
       "        text-align: right;\n",
       "    }\n",
       "</style>\n",
       "<table border=\"1\" class=\"dataframe\">\n",
       "  <thead>\n",
       "    <tr style=\"text-align: right;\">\n",
       "      <th></th>\n",
       "      <th>0</th>\n",
       "      <th>1</th>\n",
       "      <th>2</th>\n",
       "      <th>3</th>\n",
       "    </tr>\n",
       "  </thead>\n",
       "  <tbody>\n",
       "    <tr>\n",
       "      <th>0</th>\n",
       "      <td>우리나라 STEAM 교육의 방향</td>\n",
       "      <td>https://scholar.kyobobook.co.kr/article/detail...</td>\n",
       "      <td>백윤수， 박현주， 김영민， 노석구</td>\n",
       "      <td>… 분야에서 많은 관심을 받고 있는 STEAM (science, technology...</td>\n",
       "    </tr>\n",
       "    <tr>\n",
       "      <th>1</th>\n",
       "      <td>사회과 교육과정</td>\n",
       "      <td>http://down.edunet4u.net/KEDTLC/MTOOL/files/ke...</td>\n",
       "      <td>교육부</td>\n",
       "      <td>… 교육 과정의 성격 … 중학교 교육 목표 … 중학교 교육은 초등 학교 교육의 성과...</td>\n",
       "    </tr>\n",
       "    <tr>\n",
       "      <th>2</th>\n",
       "      <td>학교교육의 맥락에서 본</td>\n",
       "      <td>https://papersearch.net/thesis/article.asp?key...</td>\n",
       "      <td>소경희</td>\n",
       "      <td>… 역량중심 교육(competency-based education), 역량중심 교육...</td>\n",
       "    </tr>\n",
       "    <tr>\n",
       "      <th>3</th>\n",
       "      <td>기술교육의 새로운 통합교육 방법인 STEM 교육의 탐색</td>\n",
       "      <td>https://scholar.kyobobook.co.kr/article/detail...</td>\n",
       "      <td>김진수</td>\n",
       "      <td>이 연구에서는 기술교육의 통합교육 방법으로 새롭게 시작된 STEM 교육에 대하여 탐...</td>\n",
       "    </tr>\n",
       "    <tr>\n",
       "      <th>4</th>\n",
       "      <td>STEAM 교육을 위한 큐빅 모형</td>\n",
       "      <td>https://scholar.kyobobook.co.kr/article/detail...</td>\n",
       "      <td>김진수</td>\n",
       "      <td>… 년 12월에 초중등교육의 강화를 위하여 STEAM 교육 정책을 발표하였으나, 아...</td>\n",
       "    </tr>\n",
       "    <tr>\n",
       "      <th>...</th>\n",
       "      <td>...</td>\n",
       "      <td>...</td>\n",
       "      <td>...</td>\n",
       "      <td>...</td>\n",
       "    </tr>\n",
       "    <tr>\n",
       "      <th>95</th>\n",
       "      <td>고등교육에서의 역량기반 교육과 핵심역량</td>\n",
       "      <td>https://scholar.kyobobook.co.kr/article/detail...</td>\n",
       "      <td>손승남， 김인영， 송하석， 이재성， 최예정</td>\n",
       "      <td>… 에서 역량기반 교육과정의 설계와 개발, 대학 교양교육에서 역량기반 교육과정의 수...</td>\n",
       "    </tr>\n",
       "    <tr>\n",
       "      <th>96</th>\n",
       "      <td>교양교육의 새로운 위상과 그 강화 방책</td>\n",
       "      <td>https://j-kagedu.or.kr/upload/pdf/kagedu-3-2-5...</td>\n",
       "      <td>손동현</td>\n",
       "      <td>… 이에 융복합교육이 절실히 필요해졌으며, 융복합교육의 기초로서 교양교육이 중요해진...</td>\n",
       "    </tr>\n",
       "    <tr>\n",
       "      <th>97</th>\n",
       "      <td>인성교육의 문제점 및 창의ㆍ인성교육의 이론적 고찰</td>\n",
       "      <td>https://scholar.kyobobook.co.kr/article/detail...</td>\n",
       "      <td>최준환， 박춘성， 연경남， 민영경， 이은아</td>\n",
       "      <td>본 연구는 우리나라 인성교육의 역사와 특징을 살펴보고, 세계 각국의 최신 인성교육 ...</td>\n",
       "    </tr>\n",
       "    <tr>\n",
       "      <th>98</th>\n",
       "      <td>예술교육을 통한 창의· 인성교육</td>\n",
       "      <td>https://papersearch.net/thesis/article.asp?key...</td>\n",
       "      <td>김형숙</td>\n",
       "      <td>… 과정 이후 창의성과 인성을 아울러 갖춘 인재를 양성하는 교육에 대한 논의로 발전...</td>\n",
       "    </tr>\n",
       "    <tr>\n",
       "      <th>99</th>\n",
       "      <td>대학교육의 기능과 역할 변화에 따른 대안적 교육과정 담론</td>\n",
       "      <td>https://www.dbpia.co.kr/Journal/articleDetail?...</td>\n",
       "      <td>박민정</td>\n",
       "      <td>이 연구에서는 고등교육에서 역량기반 교육과정이 어떠한 사회문화적 배경을 토대로 등장...</td>\n",
       "    </tr>\n",
       "  </tbody>\n",
       "</table>\n",
       "<p>100 rows × 4 columns</p>\n",
       "</div>"
      ],
      "text/plain": [
       "                                  0  \\\n",
       "0                 우리나라 STEAM 교육의 방향   \n",
       "1                          사회과 교육과정   \n",
       "2                      학교교육의 맥락에서 본   \n",
       "3    기술교육의 새로운 통합교육 방법인 STEM 교육의 탐색   \n",
       "4                STEAM 교육을 위한 큐빅 모형   \n",
       "..                              ...   \n",
       "95            고등교육에서의 역량기반 교육과 핵심역량   \n",
       "96            교양교육의 새로운 위상과 그 강화 방책   \n",
       "97      인성교육의 문제점 및 창의ㆍ인성교육의 이론적 고찰   \n",
       "98                예술교육을 통한 창의· 인성교육   \n",
       "99  대학교육의 기능과 역할 변화에 따른 대안적 교육과정 담론   \n",
       "\n",
       "                                                    1  \\\n",
       "0   https://scholar.kyobobook.co.kr/article/detail...   \n",
       "1   http://down.edunet4u.net/KEDTLC/MTOOL/files/ke...   \n",
       "2   https://papersearch.net/thesis/article.asp?key...   \n",
       "3   https://scholar.kyobobook.co.kr/article/detail...   \n",
       "4   https://scholar.kyobobook.co.kr/article/detail...   \n",
       "..                                                ...   \n",
       "95  https://scholar.kyobobook.co.kr/article/detail...   \n",
       "96  https://j-kagedu.or.kr/upload/pdf/kagedu-3-2-5...   \n",
       "97  https://scholar.kyobobook.co.kr/article/detail...   \n",
       "98  https://papersearch.net/thesis/article.asp?key...   \n",
       "99  https://www.dbpia.co.kr/Journal/articleDetail?...   \n",
       "\n",
       "                          2                                                  3  \n",
       "0        백윤수， 박현주， 김영민， 노석구  … 분야에서 많은 관심을 받고 있는 STEAM (science, technology...  \n",
       "1                       교육부  … 교육 과정의 성격 … 중학교 교육 목표 … 중학교 교육은 초등 학교 교육의 성과...  \n",
       "2                       소경희  … 역량중심 교육(competency-based education), 역량중심 교육...  \n",
       "3                       김진수  이 연구에서는 기술교육의 통합교육 방법으로 새롭게 시작된 STEM 교육에 대하여 탐...  \n",
       "4                       김진수  … 년 12월에 초중등교육의 강화를 위하여 STEAM 교육 정책을 발표하였으나, 아...  \n",
       "..                      ...                                                ...  \n",
       "95  손승남， 김인영， 송하석， 이재성， 최예정  … 에서 역량기반 교육과정의 설계와 개발, 대학 교양교육에서 역량기반 교육과정의 수...  \n",
       "96                      손동현  … 이에 융복합교육이 절실히 필요해졌으며, 융복합교육의 기초로서 교양교육이 중요해진...  \n",
       "97  최준환， 박춘성， 연경남， 민영경， 이은아  본 연구는 우리나라 인성교육의 역사와 특징을 살펴보고, 세계 각국의 최신 인성교육 ...  \n",
       "98                      김형숙  … 과정 이후 창의성과 인성을 아울러 갖춘 인재를 양성하는 교육에 대한 논의로 발전...  \n",
       "99                      박민정  이 연구에서는 고등교육에서 역량기반 교육과정이 어떠한 사회문화적 배경을 토대로 등장...  \n",
       "\n",
       "[100 rows x 4 columns]"
      ]
     },
     "execution_count": 46,
     "metadata": {},
     "output_type": "execute_result"
    }
   ],
   "source": [
    "df_result"
   ]
  },
  {
   "cell_type": "code",
   "execution_count": null,
   "id": "e6776918",
   "metadata": {},
   "outputs": [],
   "source": []
  }
 ],
 "metadata": {
  "kernelspec": {
   "display_name": "Python 3 (ipykernel)",
   "language": "python",
   "name": "python3"
  },
  "language_info": {
   "codemirror_mode": {
    "name": "ipython",
    "version": 3
   },
   "file_extension": ".py",
   "mimetype": "text/x-python",
   "name": "python",
   "nbconvert_exporter": "python",
   "pygments_lexer": "ipython3",
   "version": "3.11.4"
  }
 },
 "nbformat": 4,
 "nbformat_minor": 5
}
