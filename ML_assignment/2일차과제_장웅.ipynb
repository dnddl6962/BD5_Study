{
  "cells": [
    {
      "cell_type": "markdown",
      "metadata": {
        "id": "M6lz8oL2w3wG"
      },
      "source": [
        "### 데이터 전처리"
      ]
    },
    {
      "cell_type": "code",
      "execution_count": null,
      "metadata": {
        "id": "I2xXpkSbw3wI"
      },
      "outputs": [],
      "source": [
        "import pandas as pd\n",
        "\n",
        "from sklearn.ensemble import VotingClassifier\n",
        "from sklearn.linear_model import LogisticRegression\n",
        "from sklearn.neighbors import KNeighborsClassifier\n",
        "from sklearn.datasets import load_breast_cancer\n",
        "from sklearn.model_selection import train_test_split\n",
        "from sklearn.metrics import accuracy_score\n",
        "import warnings\n",
        "warnings.filterwarnings('ignore')"
      ]
    },
    {
      "cell_type": "code",
      "execution_count": null,
      "metadata": {
        "colab": {
          "base_uri": "https://localhost:8080/"
        },
        "id": "QiYky7GtykCY",
        "outputId": "6d4b9715-a2c8-4044-f136-c344805ad0d4"
      },
      "outputs": [
        {
          "name": "stdout",
          "output_type": "stream",
          "text": [
            "Mounted at /content/drive\n"
          ]
        }
      ],
      "source": [
        "from google.colab import drive\n",
        "drive.mount('/content/drive')"
      ]
    },
    {
      "cell_type": "code",
      "execution_count": null,
      "metadata": {
        "colab": {
          "base_uri": "https://localhost:8080/"
        },
        "id": "qVfBtdxYykz7",
        "outputId": "f2ef4fe2-466c-4eb5-8716-3eb2dc4f11cf"
      },
      "outputs": [
        {
          "name": "stdout",
          "output_type": "stream",
          "text": [
            "/content/drive/MyDrive\n"
          ]
        }
      ],
      "source": [
        "%cd /content/drive/MyDrive/"
      ]
    },
    {
      "cell_type": "code",
      "execution_count": null,
      "metadata": {
        "colab": {
          "base_uri": "https://localhost:8080/",
          "height": 1000
        },
        "id": "QqDAZIYnw3wJ",
        "outputId": "bbb1e0cf-d11e-4d2b-d863-f97e937ef852",
        "scrolled": true
      },
      "outputs": [],
      "source": [
        "class0_data = pd.read_csv('./만료및탈퇴회원.csv', index_col=0)\n",
        "class1_data = pd.read_csv('./정회원.csv', index_col=0)\n",
        "display(class0_data, class1_data)"
      ]
    },
    {
      "cell_type": "code",
      "execution_count": null,
      "metadata": {
        "colab": {
          "base_uri": "https://localhost:8080/",
          "height": 964
        },
        "id": "rU2UpdKX5C0z",
        "outputId": "36a06a6d-f553-45b7-8cdd-131a8fba3fc7"
      },
      "outputs": [],
      "source": [
        "## 11월에 탈퇴한 회원의 10월 데이터 - 탈퇴회원 데이터\n",
        "exit_user = class0_data[class0_data['mm'] == 11]['userid'].unique()\n",
        "exit_data = class1_data[(class1_data['userid'].isin(exit_user)) & (class1_data['mm'] == 10)]\n",
        "\n",
        "exit_data['target'] = 0 # WILL EXIT\n",
        "\n",
        "exit_data"
      ]
    },
    {
      "cell_type": "code",
      "execution_count": null,
      "metadata": {
        "colab": {
          "base_uri": "https://localhost:8080/",
          "height": 947
        },
        "id": "yWLu0TWG61nx",
        "outputId": "8124b6b5-8b5d-4b36-e7e6-12844e280654"
      },
      "outputs": [],
      "source": [
        "## 11월에 정회원인 회원의 10월 데이터 - 정회원 데이터\n",
        "regular_user = class1_data[class1_data['mm'] == 11]['userid'].unique()\n",
        "regular_data = class1_data[(class1_data['userid'].isin(regular_user)) & (class1_data['mm'] == 10)]\n",
        "\n",
        "regular_data['target'] = 1 # WILL STAY\n",
        "\n",
        "regular_data"
      ]
    },
    {
      "cell_type": "code",
      "execution_count": null,
      "metadata": {
        "id": "1ktIdlNd5zv1"
      },
      "outputs": [],
      "source": [
        "dataset = pd.concat([exit_data, regular_data])"
      ]
    },
    {
      "cell_type": "code",
      "execution_count": null,
      "metadata": {
        "colab": {
          "base_uri": "https://localhost:8080/"
        },
        "id": "RJH-zP0q1Ikx",
        "outputId": "f7e31838-419a-4038-c57b-46ebcaf4a520"
      },
      "outputs": [
        {
          "data": {
            "text/plain": [
              "1    4128\n",
              "0    1251\n",
              "Name: target, dtype: int64"
            ]
          },
          "execution_count": 9,
          "metadata": {},
          "output_type": "execute_result"
        }
      ],
      "source": [
        "dataset['target'].value_counts()"
      ]
    },
    {
      "cell_type": "code",
      "execution_count": null,
      "metadata": {
        "id": "YyGdKb1ew3wO"
      },
      "outputs": [],
      "source": [
        "dataset = dataset.dropna(subset = ['point_gain_activeday_count', 'point_gain_count', 'point_gain',\n",
        "             'point_loss_activeday_count', 'point_loss_count', 'point_loss',\n",
        "             'tablet_activeday_count', 'tablet_moved_menu_count', 'tablet_leave_count', 'tablet_resume_count',\n",
        "             'tablet_login_count', 'tablet_logout_count', 'study_activeday_count', 'study_count',\n",
        "             'study_notcompleted_count', 'study_completed_count',\n",
        "             'study_restart_count', 'total_system_learning_time', 'total_caliper_learning_time',\n",
        "             'media_activeday_count', 'media_count',\n",
        "             'video_action_count', 'video_start_count', 'video_restart_count',\n",
        "             'video_pause_count', 'video_jump_count', 'video_resume_count',\n",
        "             'video_speed_count', 'video_volume_count', 'video_end_count',\n",
        "             'test_activeday_count', 'test_count', 'test_average_score',\n",
        "             'test_item_count', 'test_correct_count', 'wrong_count',\n",
        "             'wrong_item_count', 'wrong_correct_count'\n",
        "             ])"
      ]
    },
    {
      "cell_type": "code",
      "execution_count": null,
      "metadata": {
        "id": "Nh-VX1Sjw3wP"
      },
      "outputs": [],
      "source": [
        "X = dataset[['point_gain_activeday_count', 'point_gain_count', 'point_gain',\n",
        "             'point_loss_activeday_count', 'point_loss_count', 'point_loss',\n",
        "             'tablet_activeday_count', 'tablet_moved_menu_count', 'tablet_leave_count', 'tablet_resume_count',\n",
        "             'tablet_login_count', 'tablet_logout_count', 'study_activeday_count', 'study_count',\n",
        "             'study_notcompleted_count', 'study_completed_count',\n",
        "             'study_restart_count', 'total_system_learning_time', 'total_caliper_learning_time',\n",
        "             'media_activeday_count', 'media_count',\n",
        "             'video_action_count', 'video_start_count', 'video_restart_count',\n",
        "             'video_pause_count', 'video_jump_count', 'video_resume_count',\n",
        "             'video_speed_count', 'video_volume_count', 'video_end_count',\n",
        "             'test_activeday_count', 'test_count', 'test_average_score',\n",
        "             'test_item_count', 'test_correct_count', 'wrong_count',\n",
        "             'wrong_item_count', 'wrong_correct_count'\n",
        "             ]]"
      ]
    },
    {
      "cell_type": "code",
      "execution_count": null,
      "metadata": {
        "id": "WOP1kf9Jw3wQ"
      },
      "outputs": [],
      "source": [
        "Y = dataset['target']"
      ]
    },
    {
      "cell_type": "code",
      "execution_count": null,
      "metadata": {
        "colab": {
          "base_uri": "https://localhost:8080/"
        },
        "id": "WnNAiTynxKrw",
        "outputId": "a6209a69-a5d4-485c-930c-ead206427bf8"
      },
      "outputs": [
        {
          "name": "stdout",
          "output_type": "stream",
          "text": [
            "Counter({0: 2694, 1: 2694})\n"
          ]
        }
      ],
      "source": [
        "from sklearn.preprocessing import MinMaxScaler\n",
        "from sklearn.datasets import make_classification\n",
        "from sklearn.decomposition import PCA\n",
        "from imblearn.over_sampling import SMOTE\n",
        "from collections import Counter\n",
        "# TODO : OverSampling(SMOTE) 적용\n",
        "smote = SMOTE(sampling_strategy='minority')\n",
        "X_sm, y_sm = smote.fit_resample(X, Y)\n",
        "print(Counter(y_sm))"
      ]
    },
    {
      "cell_type": "code",
      "execution_count": null,
      "metadata": {
        "id": "giisHlvT_3d7"
      },
      "outputs": [],
      "source": [
        "X_train, X_test, y_train, y_test = train_test_split(X_sm, y_sm, test_size=0.2 , random_state= 42)"
      ]
    },
    {
      "cell_type": "markdown",
      "metadata": {
        "id": "qNau3TfKxM5_"
      },
      "source": [
        "### 모델 적용"
      ]
    },
    {
      "cell_type": "markdown",
      "metadata": {
        "id": "e8hkW2qVbknS"
      },
      "source": [
        "### Decision Tree(결정 트리)"
      ]
    },
    {
      "cell_type": "code",
      "execution_count": null,
      "metadata": {
        "colab": {
          "base_uri": "https://localhost:8080/",
          "height": 75
        },
        "id": "jqvP8vwBbon4",
        "outputId": "db90db98-3a77-45ef-d6d0-809e8c62f81b"
      },
      "outputs": [
        {
          "data": {
            "text/html": [
              "<style>#sk-container-id-1 {color: black;background-color: white;}#sk-container-id-1 pre{padding: 0;}#sk-container-id-1 div.sk-toggleable {background-color: white;}#sk-container-id-1 label.sk-toggleable__label {cursor: pointer;display: block;width: 100%;margin-bottom: 0;padding: 0.3em;box-sizing: border-box;text-align: center;}#sk-container-id-1 label.sk-toggleable__label-arrow:before {content: \"▸\";float: left;margin-right: 0.25em;color: #696969;}#sk-container-id-1 label.sk-toggleable__label-arrow:hover:before {color: black;}#sk-container-id-1 div.sk-estimator:hover label.sk-toggleable__label-arrow:before {color: black;}#sk-container-id-1 div.sk-toggleable__content {max-height: 0;max-width: 0;overflow: hidden;text-align: left;background-color: #f0f8ff;}#sk-container-id-1 div.sk-toggleable__content pre {margin: 0.2em;color: black;border-radius: 0.25em;background-color: #f0f8ff;}#sk-container-id-1 input.sk-toggleable__control:checked~div.sk-toggleable__content {max-height: 200px;max-width: 100%;overflow: auto;}#sk-container-id-1 input.sk-toggleable__control:checked~label.sk-toggleable__label-arrow:before {content: \"▾\";}#sk-container-id-1 div.sk-estimator input.sk-toggleable__control:checked~label.sk-toggleable__label {background-color: #d4ebff;}#sk-container-id-1 div.sk-label input.sk-toggleable__control:checked~label.sk-toggleable__label {background-color: #d4ebff;}#sk-container-id-1 input.sk-hidden--visually {border: 0;clip: rect(1px 1px 1px 1px);clip: rect(1px, 1px, 1px, 1px);height: 1px;margin: -1px;overflow: hidden;padding: 0;position: absolute;width: 1px;}#sk-container-id-1 div.sk-estimator {font-family: monospace;background-color: #f0f8ff;border: 1px dotted black;border-radius: 0.25em;box-sizing: border-box;margin-bottom: 0.5em;}#sk-container-id-1 div.sk-estimator:hover {background-color: #d4ebff;}#sk-container-id-1 div.sk-parallel-item::after {content: \"\";width: 100%;border-bottom: 1px solid gray;flex-grow: 1;}#sk-container-id-1 div.sk-label:hover label.sk-toggleable__label {background-color: #d4ebff;}#sk-container-id-1 div.sk-serial::before {content: \"\";position: absolute;border-left: 1px solid gray;box-sizing: border-box;top: 0;bottom: 0;left: 50%;z-index: 0;}#sk-container-id-1 div.sk-serial {display: flex;flex-direction: column;align-items: center;background-color: white;padding-right: 0.2em;padding-left: 0.2em;position: relative;}#sk-container-id-1 div.sk-item {position: relative;z-index: 1;}#sk-container-id-1 div.sk-parallel {display: flex;align-items: stretch;justify-content: center;background-color: white;position: relative;}#sk-container-id-1 div.sk-item::before, #sk-container-id-1 div.sk-parallel-item::before {content: \"\";position: absolute;border-left: 1px solid gray;box-sizing: border-box;top: 0;bottom: 0;left: 50%;z-index: -1;}#sk-container-id-1 div.sk-parallel-item {display: flex;flex-direction: column;z-index: 1;position: relative;background-color: white;}#sk-container-id-1 div.sk-parallel-item:first-child::after {align-self: flex-end;width: 50%;}#sk-container-id-1 div.sk-parallel-item:last-child::after {align-self: flex-start;width: 50%;}#sk-container-id-1 div.sk-parallel-item:only-child::after {width: 0;}#sk-container-id-1 div.sk-dashed-wrapped {border: 1px dashed gray;margin: 0 0.4em 0.5em 0.4em;box-sizing: border-box;padding-bottom: 0.4em;background-color: white;}#sk-container-id-1 div.sk-label label {font-family: monospace;font-weight: bold;display: inline-block;line-height: 1.2em;}#sk-container-id-1 div.sk-label-container {text-align: center;}#sk-container-id-1 div.sk-container {/* jupyter's `normalize.less` sets `[hidden] { display: none; }` but bootstrap.min.css set `[hidden] { display: none !important; }` so we also need the `!important` here to be able to override the default hidden behavior on the sphinx rendered scikit-learn.org. See: https://github.com/scikit-learn/scikit-learn/issues/21755 */display: inline-block !important;position: relative;}#sk-container-id-1 div.sk-text-repr-fallback {display: none;}</style><div id=\"sk-container-id-1\" class=\"sk-top-container\"><div class=\"sk-text-repr-fallback\"><pre>DecisionTreeClassifier(random_state=156)</pre><b>In a Jupyter environment, please rerun this cell to show the HTML representation or trust the notebook. <br />On GitHub, the HTML representation is unable to render, please try loading this page with nbviewer.org.</b></div><div class=\"sk-container\" hidden><div class=\"sk-item\"><div class=\"sk-estimator sk-toggleable\"><input class=\"sk-toggleable__control sk-hidden--visually\" id=\"sk-estimator-id-1\" type=\"checkbox\" checked><label for=\"sk-estimator-id-1\" class=\"sk-toggleable__label sk-toggleable__label-arrow\">DecisionTreeClassifier</label><div class=\"sk-toggleable__content\"><pre>DecisionTreeClassifier(random_state=156)</pre></div></div></div></div></div>"
            ],
            "text/plain": [
              "DecisionTreeClassifier(random_state=156)"
            ]
          },
          "execution_count": 20,
          "metadata": {},
          "output_type": "execute_result"
        }
      ],
      "source": [
        "from sklearn.tree import DecisionTreeClassifier\n",
        "dt_clf = DecisionTreeClassifier(random_state=156)\n",
        "dt_clf.fit(X_train, y_train)"
      ]
    },
    {
      "cell_type": "code",
      "execution_count": null,
      "metadata": {
        "colab": {
          "base_uri": "https://localhost:8080/"
        },
        "id": "XRjxH28Fbok_",
        "outputId": "5e366540-001c-4bf6-d614-6ba642dc6f2b"
      },
      "outputs": [
        {
          "name": "stdout",
          "output_type": "stream",
          "text": [
            "Decision Tree accuracy: 0.7532\n",
            "Decision Tree Recall: 0.7236\n",
            "Decision Tree Precision: 0.7555\n",
            "Decision Tree AUC: 0.7523\n",
            "Decision Tree Confusion Matrix: \n",
            " [[435 122]\n",
            " [144 377]]\n"
          ]
        }
      ],
      "source": [
        "import sklearn.metrics as mt\n",
        "y_pred = dt_clf.predict(X_test)\n",
        "accuracy = mt.accuracy_score(y_test, y_pred)\n",
        "precision = mt.precision_score(y_test, y_pred)\n",
        "recall = mt.recall_score(y_test, y_pred)\n",
        "auc = mt.roc_auc_score(y_test, y_pred)\n",
        "matrix = mt.confusion_matrix(y_test, y_pred)\n",
        "\n",
        "print(\"Decision Tree accuracy: {:.4f}\".format(accuracy))\n",
        "print('Decision Tree Recall: {0:.4f}'.format(recall))\n",
        "print('Decision Tree Precision: {0:.4f}'.format(precision))\n",
        "print('Decision Tree AUC: {0:.4f}'.format(auc))\n",
        "print('Decision Tree Confusion Matrix:','\\n', matrix)"
      ]
    },
    {
      "cell_type": "markdown",
      "metadata": {
        "id": "oB8etbVOawxl"
      },
      "source": [
        "### Voting(보팅)"
      ]
    },
    {
      "cell_type": "code",
      "execution_count": null,
      "metadata": {
        "colab": {
          "base_uri": "https://localhost:8080/"
        },
        "id": "516LnoxiawcJ",
        "outputId": "a1d957e8-0a99-4147-d156-4fc8b30ffdf3"
      },
      "outputs": [
        {
          "name": "stdout",
          "output_type": "stream",
          "text": [
            "Voting 분류기 정확도: 0.7718\n",
            "Decision Tree Recall: 0.7447\n",
            "Decision Tree Precision: 0.7745\n",
            "Decision Tree AUC: 0.7709\n",
            "Decision Tree Confusion Matrix: \n",
            " [[444 113]\n",
            " [133 388]]\n"
          ]
        }
      ],
      "source": [
        "# 개별 모델은 KNN와 DecisionTree 임.\n",
        "knn_clf = KNeighborsClassifier(n_neighbors=8)\n",
        "dt_clf = DecisionTreeClassifier(random_state=42)\n",
        "\n",
        "# 개별 모델을 소프트 보팅 기반의 앙상블 모델로 구현한 분류기\n",
        "vo_clf = VotingClassifier(estimators=[('KNN',knn_clf),('DT',dt_clf)] , voting='soft' )\n",
        "\n",
        "# VotingClassifier 학습/예측/평가.\n",
        "vo_clf.fit(X_train , y_train)\n",
        "pred = vo_clf.predict(X_test)\n",
        "print('Voting 분류기 정확도: {0:.4f}'.format(accuracy_score(y_test , pred)))\n",
        "precision = mt.precision_score(y_test, pred)\n",
        "recall = mt.recall_score(y_test, pred)\n",
        "auc = mt.roc_auc_score(y_test, pred)\n",
        "matrix = mt.confusion_matrix(y_test, pred)\n",
        "print('Decision Tree Recall: {0:.4f}'.format(recall))\n",
        "print('Decision Tree Precision: {0:.4f}'.format(precision))\n",
        "print('Decision Tree AUC: {0:.4f}'.format(auc))\n",
        "print('Decision Tree Confusion Matrix:','\\n', matrix)"
      ]
    },
    {
      "cell_type": "code",
      "execution_count": null,
      "metadata": {
        "colab": {
          "base_uri": "https://localhost:8080/"
        },
        "id": "nK3gIV4IDxs4",
        "outputId": "8b97edc6-99e8-4f49-bd39-a56888be9bf8"
      },
      "outputs": [
        {
          "name": "stdout",
          "output_type": "stream",
          "text": [
            "KNeighborsClassifier 정확도: 0.7004\n",
            "DecisionTreeClassifier 정확도: 0.7681\n"
          ]
        }
      ],
      "source": [
        "classifiers = [knn_clf, dt_clf]\n",
        "for classifier in classifiers:\n",
        "    classifier.fit(X_train , y_train)\n",
        "    pred = classifier.predict(X_test)\n",
        "    class_name= classifier.__class__.__name__\n",
        "    print('{0} 정확도: {1:.4f}'.format(class_name, accuracy_score(y_test , pred)))"
      ]
    },
    {
      "cell_type": "markdown",
      "metadata": {
        "id": "L2w2ojIV9Tvm"
      },
      "source": [
        "#### Bagging(배깅)"
      ]
    },
    {
      "cell_type": "code",
      "execution_count": null,
      "metadata": {
        "id": "BOnXyE-7at3Z"
      },
      "outputs": [],
      "source": [
        "from sklearn.ensemble import BaggingClassifier"
      ]
    },
    {
      "cell_type": "code",
      "execution_count": null,
      "metadata": {
        "id": "tUuUyOL0aIDe"
      },
      "outputs": [],
      "source": [
        "lr_clf = LogisticRegression(solver='liblinear')\n",
        "\n",
        "bagging_clf = BaggingClassifier(base_estimator=lr_clf)\n",
        "\n",
        "# BaggingClassifier 학습/예측.\n",
        "bagging_clf.fit(X_train , y_train)\n",
        "pred = bagging_clf.predict(X_test)"
      ]
    },
    {
      "cell_type": "code",
      "execution_count": null,
      "metadata": {
        "colab": {
          "base_uri": "https://localhost:8080/"
        },
        "id": "HjDzvG5wE37u",
        "outputId": "767cf7ee-2bc9-48fe-ae08-969e2672b4c2"
      },
      "outputs": [
        {
          "name": "stdout",
          "output_type": "stream",
          "text": [
            "Decision Tree Accuracy: 0.6531\n",
            "Decision Tree Recall: 0.6161\n",
            "Decision Tree Precision: 0.6485\n",
            "Decision Tree AUC: 0.6519\n",
            "Decision Tree Confusion Matrix: \n",
            " [[383 174]\n",
            " [200 321]]\n"
          ]
        }
      ],
      "source": [
        "accuracy = mt.accuracy_score(y_test, pred)\n",
        "precision = mt.precision_score(y_test, pred)\n",
        "recall = mt.recall_score(y_test, pred)\n",
        "auc = mt.roc_auc_score(y_test, pred)\n",
        "matrix = mt.confusion_matrix(y_test, pred)\n",
        "print('Decision Tree Accuracy: {0:.4f}'.format(accuracy))\n",
        "print('Decision Tree Recall: {0:.4f}'.format(recall))\n",
        "print('Decision Tree Precision: {0:.4f}'.format(precision))\n",
        "print('Decision Tree AUC: {0:.4f}'.format(auc))\n",
        "print('Decision Tree Confusion Matrix:','\\n', matrix)"
      ]
    },
    {
      "cell_type": "markdown",
      "metadata": {
        "id": "C1BopffU9Ve7"
      },
      "source": [
        "#### 랜덤 포레스트"
      ]
    },
    {
      "cell_type": "code",
      "execution_count": null,
      "metadata": {
        "colab": {
          "base_uri": "https://localhost:8080/"
        },
        "id": "zVBI97APw3wU",
        "outputId": "2ddf4d07-27eb-4d14-d7f5-3fab0ad6e296"
      },
      "outputs": [
        {
          "name": "stdout",
          "output_type": "stream",
          "text": [
            "random forest Accuracy: 0.8006\n",
            "random forest Recall: 0.7697\n",
            "random forest Precision: 0.8085\n",
            "random forest AUC: 0.7996\n",
            "random forest Confusion Matrix: \n",
            " [[462  95]\n",
            " [120 401]]\n"
          ]
        }
      ],
      "source": [
        "from sklearn.ensemble import RandomForestClassifier\n",
        "\n",
        "rf_clf = RandomForestClassifier(n_estimators=100, random_state=0, max_depth=8)\n",
        "rf_clf.fit(X_train , y_train)\n",
        "pred = rf_clf.predict(X_test)\n",
        "\n",
        "accuracy = mt.accuracy_score(y_test, pred)\n",
        "precision = mt.precision_score(y_test, pred)\n",
        "recall = mt.recall_score(y_test, pred)\n",
        "auc = mt.roc_auc_score(y_test, pred)\n",
        "matrix = mt.confusion_matrix(y_test, pred)\n",
        "\n",
        "print('random forest Accuracy: {0:.4f}'.format(accuracy))\n",
        "print('random forest Recall: {0:.4f}'.format(recall))\n",
        "print('random forest Precision: {0:.4f}'.format(precision))\n",
        "print('random forest AUC: {0:.4f}'.format(auc))\n",
        "print('random forest Confusion Matrix:','\\n', matrix)"
      ]
    },
    {
      "cell_type": "code",
      "execution_count": null,
      "metadata": {
        "id": "ANfRhElTw3wV"
      },
      "outputs": [],
      "source": []
    },
    {
      "cell_type": "markdown",
      "metadata": {
        "id": "zUQawU8B9Xb9"
      },
      "source": [
        "#### 그래디언트 부스팅"
      ]
    },
    {
      "cell_type": "code",
      "execution_count": null,
      "metadata": {
        "colab": {
          "base_uri": "https://localhost:8080/"
        },
        "id": "eSkng7sIzw6v",
        "outputId": "b09a6443-e899-4bad-d462-c81b07c93b77"
      },
      "outputs": [
        {
          "name": "stdout",
          "output_type": "stream",
          "text": [
            "GBM Accuracy: 0.8395\n",
            "GBM Recall: 0.9060\n",
            "GBM Precision: 0.7919\n",
            "GBM AUC: 0.8417\n",
            "GBM Confusion Matrix: \n",
            " [[433 124]\n",
            " [ 49 472]]\n",
            "GBM 수행 시간: 10.3 초 \n"
          ]
        }
      ],
      "source": [
        "from sklearn.ensemble import GradientBoostingClassifier\n",
        "import time\n",
        "\n",
        "start_time = time.time()\n",
        "\n",
        "gb_clf = GradientBoostingClassifier(random_state=0)\n",
        "gb_clf.fit(X_train , y_train)\n",
        "gb_pred = gb_clf.predict(X_test)\n",
        "\n",
        "accuracy = mt.accuracy_score(y_test , gb_pred)\n",
        "recall = mt.recall_score(y_test, gb_pred)\n",
        "precision = mt.precision_score(y_test, gb_pred)\n",
        "auc = mt.roc_auc_score(y_test, gb_pred)\n",
        "matrix = mt.confusion_matrix(y_test, gb_pred)\n",
        "\n",
        "print('GBM Accuracy: {0:.4f}'.format(accuracy))\n",
        "print('GBM Recall: {0:.4f}'.format(recall))\n",
        "print('GBM Precision: {0:.4f}'.format(precision))\n",
        "print('GBM AUC: {0:.4f}'.format(auc))\n",
        "print('GBM Confusion Matrix:','\\n', matrix)\n",
        "\n",
        "print(\"GBM 수행 시간: {0:.1f} 초 \".format(time.time() - start_time))"
      ]
    },
    {
      "cell_type": "code",
      "execution_count": null,
      "metadata": {
        "id": "kbiShzy_w3wV"
      },
      "outputs": [],
      "source": []
    },
    {
      "cell_type": "code",
      "execution_count": null,
      "metadata": {
        "id": "OWMnv65bw3wW"
      },
      "outputs": [],
      "source": []
    }
  ],
  "metadata": {
    "colab": {
      "collapsed_sections": [
        "vebXk4LfzUbE"
      ],
      "provenance": []
    },
    "kernelspec": {
      "display_name": "Python 3 (ipykernel)",
      "language": "python",
      "name": "python3"
    },
    "language_info": {
      "codemirror_mode": {
        "name": "ipython",
        "version": 3
      },
      "file_extension": ".py",
      "mimetype": "text/x-python",
      "name": "python",
      "nbconvert_exporter": "python",
      "pygments_lexer": "ipython3",
      "version": "3.7.5"
    }
  },
  "nbformat": 4,
  "nbformat_minor": 0
}
